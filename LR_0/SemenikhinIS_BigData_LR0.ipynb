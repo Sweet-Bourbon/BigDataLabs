{
  "nbformat": 4,
  "nbformat_minor": 0,
  "metadata": {
    "colab": {
      "provenance": []
    },
    "kernelspec": {
      "name": "python3",
      "display_name": "Python 3"
    }
  },
  "cells": [
    {
      "cell_type": "markdown",
      "metadata": {
        "id": "82OvPKEiEqjc"
      },
      "source": [
        "# Введение в MapReduce модель на Python\n"
      ]
    },
    {
      "cell_type": "code",
      "metadata": {
        "id": "JQ2cvXLjICmI"
      },
      "source": [
        "from typing import NamedTuple # requires python 3.6+\n",
        "from typing import Iterator"
      ],
      "execution_count": null,
      "outputs": []
    },
    {
      "cell_type": "code",
      "metadata": {
        "id": "yjPHumVwEyEg"
      },
      "source": [
        "def MAP(_, row:NamedTuple):\n",
        "  if (row.gender == 'female'):\n",
        "    yield (row.age, row)\n",
        "\n",
        "def REDUCE(age:str, rows:Iterator[NamedTuple]):\n",
        "  sum = 0\n",
        "  count = 0\n",
        "  for row in rows:\n",
        "    sum += row.social_contacts\n",
        "    count += 1\n",
        "  if (count > 0):\n",
        "    yield (age, sum/count)\n",
        "  else:\n",
        "    yield (age, 0)"
      ],
      "execution_count": null,
      "outputs": []
    },
    {
      "cell_type": "markdown",
      "metadata": {
        "id": "vBKMgpG_ilaZ"
      },
      "source": [
        "Модель элемента данных"
      ]
    },
    {
      "cell_type": "code",
      "metadata": {
        "id": "Rv-XIjhTJPx3"
      },
      "source": [
        "class User(NamedTuple):\n",
        "  id: int\n",
        "  age: str\n",
        "  social_contacts: int\n",
        "  gender: str"
      ],
      "execution_count": null,
      "outputs": []
    },
    {
      "cell_type": "code",
      "metadata": {
        "id": "5KV0Ze2vQgu5"
      },
      "source": [
        "input_collection = [\n",
        "    User(id=0, age=55, gender='male', social_contacts=20),\n",
        "    User(id=1, age=25, gender='female', social_contacts=240),\n",
        "    User(id=2, age=25, gender='female', social_contacts=500),\n",
        "    User(id=3, age=33, gender='female', social_contacts=800)\n",
        "]"
      ],
      "execution_count": null,
      "outputs": []
    },
    {
      "cell_type": "markdown",
      "metadata": {
        "id": "YFeqzyZxZIFZ"
      },
      "source": [
        "Функция RECORDREADER моделирует чтение элементов с диска или по сети."
      ]
    },
    {
      "cell_type": "code",
      "metadata": {
        "id": "S5HR4E_GQoMJ"
      },
      "source": [
        "def RECORDREADER():\n",
        "  return [(u.id, u) for u in input_collection]"
      ],
      "execution_count": null,
      "outputs": []
    },
    {
      "cell_type": "code",
      "metadata": {
        "id": "NeEoWla-ROUy",
        "colab": {
          "base_uri": "https://localhost:8080/"
        },
        "outputId": "e34fc063-0db2-4fda-cc67-dee9b35b12f2"
      },
      "source": [
        "list(RECORDREADER())"
      ],
      "execution_count": null,
      "outputs": [
        {
          "output_type": "execute_result",
          "data": {
            "text/plain": [
              "[(0, User(id=0, age=55, social_contacts=20, gender='male')),\n",
              " (1, User(id=1, age=25, social_contacts=240, gender='female')),\n",
              " (2, User(id=2, age=25, social_contacts=500, gender='female')),\n",
              " (3, User(id=3, age=33, social_contacts=800, gender='female'))]"
            ]
          },
          "metadata": {},
          "execution_count": 88
        }
      ]
    },
    {
      "cell_type": "code",
      "metadata": {
        "id": "YB8orgPSZs8M"
      },
      "source": [
        "def flatten(nested_iterable):\n",
        "  for iterable in nested_iterable:\n",
        "    for element in iterable:\n",
        "      yield element"
      ],
      "execution_count": null,
      "outputs": []
    },
    {
      "cell_type": "code",
      "metadata": {
        "id": "74oyvDLaRmd5",
        "colab": {
          "base_uri": "https://localhost:8080/"
        },
        "outputId": "28732206-682c-4220-9cbb-ea080c1ba28b"
      },
      "source": [
        "map_output = flatten(map(lambda x: MAP(*x), RECORDREADER()))\n",
        "map_output = list(map_output) # materialize\n",
        "map_output"
      ],
      "execution_count": null,
      "outputs": [
        {
          "output_type": "execute_result",
          "data": {
            "text/plain": [
              "[(25, User(id=1, age=25, social_contacts=240, gender='female')),\n",
              " (25, User(id=2, age=25, social_contacts=500, gender='female')),\n",
              " (33, User(id=3, age=33, social_contacts=800, gender='female'))]"
            ]
          },
          "metadata": {},
          "execution_count": 90
        }
      ]
    },
    {
      "cell_type": "code",
      "metadata": {
        "id": "8ncYDJ3-VzDn"
      },
      "source": [
        "def groupbykey(iterable):\n",
        "  t = {}\n",
        "  for (k2, v2) in iterable:\n",
        "    t[k2] = t.get(k2, []) + [v2]\n",
        "  return t.items()"
      ],
      "execution_count": null,
      "outputs": []
    },
    {
      "cell_type": "code",
      "metadata": {
        "id": "cKzY_6COWOA2",
        "colab": {
          "base_uri": "https://localhost:8080/"
        },
        "outputId": "3c10667a-5d62-49c8-9cf4-36480140d42e"
      },
      "source": [
        "shuffle_output = groupbykey(map_output)\n",
        "shuffle_output = list(shuffle_output)\n",
        "shuffle_output"
      ],
      "execution_count": null,
      "outputs": [
        {
          "output_type": "execute_result",
          "data": {
            "text/plain": [
              "[(25,\n",
              "  [User(id=1, age=25, social_contacts=240, gender='female'),\n",
              "   User(id=2, age=25, social_contacts=500, gender='female')]),\n",
              " (33, [User(id=3, age=33, social_contacts=800, gender='female')])]"
            ]
          },
          "metadata": {},
          "execution_count": 92
        }
      ]
    },
    {
      "cell_type": "code",
      "metadata": {
        "id": "NlA7lkDDYL0t",
        "colab": {
          "base_uri": "https://localhost:8080/"
        },
        "outputId": "ecffe953-1e46-447e-a756-a31d430d5dc0"
      },
      "source": [
        "reduce_output = flatten(map(lambda x: REDUCE(*x), shuffle_output))\n",
        "reduce_output = list(reduce_output)\n",
        "reduce_output"
      ],
      "execution_count": null,
      "outputs": [
        {
          "output_type": "execute_result",
          "data": {
            "text/plain": [
              "[(25, 370.0), (33, 800.0)]"
            ]
          },
          "metadata": {},
          "execution_count": 93
        }
      ]
    },
    {
      "cell_type": "markdown",
      "metadata": {
        "id": "xf6qhHEtd6bI"
      },
      "source": [
        "Все действия одним конвейером!"
      ]
    },
    {
      "cell_type": "code",
      "metadata": {
        "id": "dZaQGYxCdpw5",
        "colab": {
          "base_uri": "https://localhost:8080/"
        },
        "outputId": "e765c6c7-7253-411d-babb-2ae0aef28290"
      },
      "source": [
        "list(flatten(map(lambda x: REDUCE(*x), groupbykey(flatten(map(lambda x: MAP(*x), RECORDREADER()))))))"
      ],
      "execution_count": null,
      "outputs": [
        {
          "output_type": "execute_result",
          "data": {
            "text/plain": [
              "[(25, 370.0), (33, 800.0)]"
            ]
          },
          "metadata": {},
          "execution_count": 94
        }
      ]
    },
    {
      "cell_type": "markdown",
      "metadata": {
        "id": "Vq3EWRIpwSiJ"
      },
      "source": [
        "# **MapReduce**\n",
        "Выделим общую для всех пользователей часть системы в отдельную функцию высшего порядка. Это наиболее простая модель MapReduce, без учёта распределённого хранения данных.\n",
        "\n",
        "Пользователь для решения своей задачи реализует RECORDREADER, MAP, REDUCE."
      ]
    },
    {
      "cell_type": "code",
      "metadata": {
        "id": "V1PZeQMwwVjc"
      },
      "source": [
        "def flatten(nested_iterable):\n",
        "  for iterable in nested_iterable:\n",
        "    for element in iterable:\n",
        "      yield element\n",
        "\n",
        "def groupbykey(iterable):\n",
        "  t = {}\n",
        "  for (k2, v2) in iterable:\n",
        "    t[k2] = t.get(k2, []) + [v2]\n",
        "  return t.items()\n",
        "\n",
        "def MapReduce(RECORDREADER, MAP, REDUCE):\n",
        "  return flatten(map(lambda x: REDUCE(*x), groupbykey(flatten(map(lambda x: MAP(*x), RECORDREADER())))))"
      ],
      "execution_count": null,
      "outputs": []
    },
    {
      "cell_type": "markdown",
      "metadata": {
        "id": "iFIVrimep678"
      },
      "source": [
        "## Спецификация MapReduce\n",
        "\n",
        "\n",
        "\n",
        "```\n",
        "f (k1, v1) -> (k2,v2)*\n",
        "g (k2, v2*) -> (k3,v3)*\n",
        "\n",
        "mapreduce ((k1,v1)*) -> (k3,v3)*\n",
        "groupby ((k2,v2)*) -> (k2,v2*)*\n",
        "flatten (e2**) -> e2*\n",
        "\n",
        "mapreduce .map(f).flatten.groupby(k2).map(g).flatten\n",
        "```\n",
        "\n",
        "\n"
      ]
    },
    {
      "cell_type": "markdown",
      "metadata": {
        "id": "QtTFyqke3KGe"
      },
      "source": [
        "# Примеры"
      ]
    },
    {
      "cell_type": "markdown",
      "metadata": {
        "id": "BNhh5763w5Vn"
      },
      "source": [
        "## SQL"
      ]
    },
    {
      "cell_type": "code",
      "metadata": {
        "id": "QkyurnvGxBGk",
        "colab": {
          "base_uri": "https://localhost:8080/"
        },
        "outputId": "b1294ce7-d590-4556-fd7e-82335f015db3"
      },
      "source": [
        "from typing import NamedTuple # requires python 3.6+\n",
        "from typing import Iterator\n",
        "\n",
        "class User(NamedTuple):\n",
        "  id: int\n",
        "  age: str\n",
        "  social_contacts: int\n",
        "  gender: str\n",
        "\n",
        "input_collection = [\n",
        "    User(id=0, age=55, gender='male', social_contacts=20),\n",
        "    User(id=1, age=25, gender='female', social_contacts=240),\n",
        "    User(id=2, age=25, gender='female', social_contacts=500),\n",
        "    User(id=3, age=33, gender='female', social_contacts=800)\n",
        "]\n",
        "\n",
        "def MAP(_, row:NamedTuple):\n",
        "  if (row.gender == 'female'):\n",
        "    yield (row.age, row)\n",
        "\n",
        "def REDUCE(age:str, rows:Iterator[NamedTuple]):\n",
        "  sum = 0\n",
        "  count = 0\n",
        "  for row in rows:\n",
        "    sum += row.social_contacts\n",
        "    count += 1\n",
        "  if (count > 0):\n",
        "    yield (age, sum/count)\n",
        "  else:\n",
        "    yield (age, 0)\n",
        "\n",
        "def RECORDREADER():\n",
        "  return [(u.id, u) for u in input_collection]\n",
        "\n",
        "output = MapReduce(RECORDREADER, MAP, REDUCE)\n",
        "output = list(output)\n",
        "output"
      ],
      "execution_count": null,
      "outputs": [
        {
          "output_type": "execute_result",
          "data": {
            "text/plain": [
              "[(25, 370.0), (33, 800.0)]"
            ]
          },
          "metadata": {},
          "execution_count": 96
        }
      ]
    },
    {
      "cell_type": "markdown",
      "metadata": {
        "id": "kNKYIeerx0nY"
      },
      "source": [
        "## Matrix-Vector multiplication"
      ]
    },
    {
      "cell_type": "code",
      "metadata": {
        "id": "rwcntRcCyi1V",
        "colab": {
          "base_uri": "https://localhost:8080/"
        },
        "outputId": "5e5fa9cc-c381-44cc-a303-a06b2b5f3f0f"
      },
      "source": [
        "from typing import Iterator\n",
        "import numpy as np\n",
        "\n",
        "mat = np.ones((5,4))\n",
        "vec = np.random.rand(4) # in-memory vector in all map tasks\n",
        "\n",
        "def MAP(coordinates:(int, int), value:int):\n",
        "  i, j = coordinates\n",
        "  yield (i, value*vec[j])\n",
        "\n",
        "def REDUCE(i:int, products:Iterator[NamedTuple]):\n",
        "  sum = 0\n",
        "  for p in products:\n",
        "    sum += p\n",
        "  yield (i, sum)\n",
        "\n",
        "def RECORDREADER():\n",
        "  for i in range(mat.shape[0]):\n",
        "    for j in range(mat.shape[1]):\n",
        "      yield ((i, j), mat[i,j])\n",
        "\n",
        "output = MapReduce(RECORDREADER, MAP, REDUCE)\n",
        "output = list(output)\n",
        "output"
      ],
      "execution_count": null,
      "outputs": [
        {
          "output_type": "execute_result",
          "data": {
            "text/plain": [
              "[(0, np.float64(1.4301556115830296)),\n",
              " (1, np.float64(1.4301556115830296)),\n",
              " (2, np.float64(1.4301556115830296)),\n",
              " (3, np.float64(1.4301556115830296)),\n",
              " (4, np.float64(1.4301556115830296))]"
            ]
          },
          "metadata": {},
          "execution_count": 97
        }
      ]
    },
    {
      "cell_type": "markdown",
      "metadata": {
        "id": "ruZREYdi2o4O"
      },
      "source": [
        "## Inverted index"
      ]
    },
    {
      "cell_type": "code",
      "metadata": {
        "id": "vt9H9Alf3TYv",
        "colab": {
          "base_uri": "https://localhost:8080/"
        },
        "outputId": "5b7ff508-75a9-4c11-a766-a48f0eee919d"
      },
      "source": [
        "from typing import Iterator\n",
        "\n",
        "d1 = \"it is what it is\"\n",
        "d2 = \"what is it\"\n",
        "d3 = \"it is a banana\"\n",
        "documents = [d1, d2, d3]\n",
        "\n",
        "def RECORDREADER():\n",
        "  for (docid, document) in enumerate(documents):\n",
        "    yield (\"{}\".format(docid), document)\n",
        "\n",
        "def MAP(docId:str, body:str):\n",
        "  for word in set(body.split(' ')):\n",
        "    yield (word, docId)\n",
        "\n",
        "def REDUCE(word:str, docIds:Iterator[str]):\n",
        "  yield (word, sorted(docIds))\n",
        "\n",
        "output = MapReduce(RECORDREADER, MAP, REDUCE)\n",
        "output = list(output)\n",
        "output"
      ],
      "execution_count": null,
      "outputs": [
        {
          "output_type": "execute_result",
          "data": {
            "text/plain": [
              "[('it', ['0', '1', '2']),\n",
              " ('is', ['0', '1', '2']),\n",
              " ('what', ['0', '1']),\n",
              " ('banana', ['2']),\n",
              " ('a', ['2'])]"
            ]
          },
          "metadata": {},
          "execution_count": 98
        }
      ]
    },
    {
      "cell_type": "markdown",
      "metadata": {
        "id": "R7az-6DA6qr2"
      },
      "source": [
        "## WordCount"
      ]
    },
    {
      "cell_type": "code",
      "metadata": {
        "id": "dN-nbtgG6uYG",
        "colab": {
          "base_uri": "https://localhost:8080/"
        },
        "outputId": "939d7a52-5856-42b7-d4cf-6ca5ef57a49b"
      },
      "source": [
        "from typing import Iterator\n",
        "\n",
        "d1 = \"\"\"\n",
        "it is what it is\n",
        "it is what it is\n",
        "it is what it is\"\"\"\n",
        "d2 = \"\"\"\n",
        "what is it\n",
        "what is it\"\"\"\n",
        "d3 = \"\"\"\n",
        "it is a banana\"\"\"\n",
        "documents = [d1, d2, d3]\n",
        "\n",
        "def RECORDREADER():\n",
        "  for (docid, document) in enumerate(documents):\n",
        "    for (lineid, line) in enumerate(document.split('\\n')):\n",
        "      yield (\"{}:{}\".format(docid,lineid), line)\n",
        "\n",
        "def MAP(docId:str, line:str):\n",
        "  for word in line.split(\" \"):\n",
        "    yield (word, 1)\n",
        "\n",
        "def REDUCE(word:str, counts:Iterator[int]):\n",
        "  sum = 0\n",
        "  for c in counts:\n",
        "    sum += c\n",
        "  yield (word, sum)\n",
        "\n",
        "output = MapReduce(RECORDREADER, MAP, REDUCE)\n",
        "output = list(output)\n",
        "output"
      ],
      "execution_count": null,
      "outputs": [
        {
          "output_type": "execute_result",
          "data": {
            "text/plain": [
              "[('', 3), ('it', 9), ('is', 9), ('what', 5), ('a', 1), ('banana', 1)]"
            ]
          },
          "metadata": {},
          "execution_count": 99
        }
      ]
    },
    {
      "cell_type": "markdown",
      "metadata": {
        "id": "h-jRAcYCAkkk"
      },
      "source": [
        "# MapReduce Distributed\n",
        "\n",
        "Добавляется в модель фабрика RECORDREARER-ов --- INPUTFORMAT, функция распределения промежуточных результатов по партициям PARTITIONER, и функция COMBINER для частичной аггрегации промежуточных результатов до распределения по новым партициям."
      ]
    },
    {
      "cell_type": "code",
      "metadata": {
        "id": "nw-b-xJsApgW"
      },
      "source": [
        "def flatten(nested_iterable):\n",
        "  for iterable in nested_iterable:\n",
        "    for element in iterable:\n",
        "      yield element\n",
        "\n",
        "def groupbykey(iterable):\n",
        "  t = {}\n",
        "  for (k2, v2) in iterable:\n",
        "    t[k2] = t.get(k2, []) + [v2]\n",
        "  return t.items()\n",
        "\n",
        "def groupbykey_distributed(map_partitions, PARTITIONER):\n",
        "  global reducers\n",
        "  partitions = [dict() for _ in range(reducers)]\n",
        "  for map_partition in map_partitions:\n",
        "    for (k2, v2) in map_partition:\n",
        "      p = partitions[PARTITIONER(k2)]\n",
        "      p[k2] = p.get(k2, []) + [v2]\n",
        "  return [(partition_id, sorted(partition.items(), key=lambda x: x[0])) for (partition_id, partition) in enumerate(partitions)]\n",
        "\n",
        "def PARTITIONER(obj):\n",
        "  global reducers\n",
        "  return hash(obj) % reducers\n",
        "\n",
        "def MapReduceDistributed(INPUTFORMAT, MAP, REDUCE, PARTITIONER=PARTITIONER, COMBINER=None):\n",
        "  map_partitions = map(lambda record_reader: flatten(map(lambda k1v1: MAP(*k1v1), record_reader)), INPUTFORMAT())\n",
        "  if COMBINER != None:\n",
        "    map_partitions = map(lambda map_partition: flatten(map(lambda k2v2: COMBINER(*k2v2), groupbykey(map_partition))), map_partitions)\n",
        "  reduce_partitions = groupbykey_distributed(map_partitions, PARTITIONER) # shuffle\n",
        "  reduce_outputs = map(lambda reduce_partition: (reduce_partition[0], flatten(map(lambda reduce_input_group: REDUCE(*reduce_input_group), reduce_partition[1]))), reduce_partitions)\n",
        "\n",
        "  print(\"{} key-value pairs were sent over a network.\".format(sum([len(vs) for (k,vs) in flatten([partition for (partition_id, partition) in reduce_partitions])])))\n",
        "  return reduce_outputs"
      ],
      "execution_count": null,
      "outputs": []
    },
    {
      "cell_type": "markdown",
      "metadata": {
        "id": "kxirlf3XqZxY"
      },
      "source": [
        "## Спецификация MapReduce Distributed\n",
        "\n",
        "\n",
        "```\n",
        "f (k1, v1) -> (k2,v2)*\n",
        "g (k2, v2*) -> (k3,v3)*\n",
        "\n",
        "e1 (k1, v1)\n",
        "e2 (k2, v2)\n",
        "partition1 (k2, v2)*\n",
        "partition2 (k2, v2*)*\n",
        "\n",
        "flatmap (e1->e2*, e1*) -> partition1*\n",
        "groupby (partition1*) -> partition2*\n",
        "\n",
        "mapreduce ((k1,v1)*) -> (k3,v3)*\n",
        "mapreduce .flatmap(f).groupby(k2).flatmap(g)\n",
        "```\n",
        "\n"
      ]
    },
    {
      "cell_type": "markdown",
      "metadata": {
        "id": "CWYw_CpbbY3C"
      },
      "source": [
        "## WordCount"
      ]
    },
    {
      "cell_type": "code",
      "metadata": {
        "id": "uR_zfGFkMZlp",
        "colab": {
          "base_uri": "https://localhost:8080/"
        },
        "outputId": "474cde82-a9be-4b72-ecda-09f398a5b359"
      },
      "source": [
        "from typing import Iterator\n",
        "import numpy as np\n",
        "\n",
        "d1 = \"\"\"\n",
        "it is what it is\n",
        "it is what it is\n",
        "it is what it is\"\"\"\n",
        "d2 = \"\"\"\n",
        "what is it\n",
        "what is it\"\"\"\n",
        "d3 = \"\"\"\n",
        "it is a banana\"\"\"\n",
        "documents = [d1, d2, d3, d1, d2, d3]\n",
        "\n",
        "maps = 3\n",
        "reducers = 2\n",
        "\n",
        "def INPUTFORMAT():\n",
        "  global maps\n",
        "\n",
        "  def RECORDREADER(split):\n",
        "    for (docid, document) in enumerate(split):\n",
        "      for (lineid, line) in enumerate(document.split('\\n')):\n",
        "        yield (\"{}:{}\".format(docid,lineid), line)\n",
        "\n",
        "  split_size =  int(np.ceil(len(documents)/maps))\n",
        "  for i in range(0, len(documents), split_size):\n",
        "    yield RECORDREADER(documents[i:i+split_size])\n",
        "\n",
        "def MAP(docId:str, line:str):\n",
        "  for word in line.split(\" \"):\n",
        "    yield (word, 1)\n",
        "\n",
        "def REDUCE(word:str, counts:Iterator[int]):\n",
        "  sum = 0\n",
        "  for c in counts:\n",
        "    sum += c\n",
        "  yield (word, sum)\n",
        "\n",
        "# try to set COMBINER=REDUCER and look at the number of values sent over the network\n",
        "partitioned_output = MapReduceDistributed(INPUTFORMAT, MAP, REDUCE, COMBINER=None)\n",
        "partitioned_output = [(partition_id, list(partition)) for (partition_id, partition) in partitioned_output]\n",
        "partitioned_output"
      ],
      "execution_count": null,
      "outputs": [
        {
          "output_type": "stream",
          "name": "stdout",
          "text": [
            "56 key-value pairs were sent over a network.\n"
          ]
        },
        {
          "output_type": "execute_result",
          "data": {
            "text/plain": [
              "[(0, [('', 6), ('is', 18), ('it', 18)]),\n",
              " (1, [('a', 2), ('banana', 2), ('what', 10)])]"
            ]
          },
          "metadata": {},
          "execution_count": 101
        }
      ]
    },
    {
      "cell_type": "markdown",
      "metadata": {
        "id": "gCJGx8IQ87xS"
      },
      "source": [
        "## TeraSort"
      ]
    },
    {
      "cell_type": "code",
      "metadata": {
        "id": "P2v8v1v_8_YR",
        "colab": {
          "base_uri": "https://localhost:8080/"
        },
        "outputId": "465dd616-db5f-4666-906b-c9add84eecd2"
      },
      "source": [
        "import numpy as np\n",
        "\n",
        "input_values = np.random.rand(30)\n",
        "maps = 3\n",
        "reducers = 2\n",
        "min_value = 0.0\n",
        "max_value = 1.0\n",
        "\n",
        "def INPUTFORMAT():\n",
        "  global maps\n",
        "\n",
        "  def RECORDREADER(split):\n",
        "    for value in split:\n",
        "        yield (value, None)\n",
        "\n",
        "  split_size =  int(np.ceil(len(input_values)/maps))\n",
        "  for i in range(0, len(input_values), split_size):\n",
        "    yield RECORDREADER(input_values[i:i+split_size])\n",
        "\n",
        "def MAP(value:int, _):\n",
        "  yield (value, None)\n",
        "\n",
        "def PARTITIONER(key):\n",
        "  global reducers\n",
        "  global max_value\n",
        "  global min_value\n",
        "  bucket_size = (max_value-min_value)/reducers\n",
        "  bucket_id = 0\n",
        "  while((key>(bucket_id+1)*bucket_size) and ((bucket_id+1)*bucket_size<max_value)):\n",
        "    bucket_id += 1\n",
        "  return bucket_id\n",
        "\n",
        "def REDUCE(value:int, _):\n",
        "  yield (None,value)\n",
        "\n",
        "partitioned_output = MapReduceDistributed(INPUTFORMAT, MAP, REDUCE, COMBINER=None, PARTITIONER=PARTITIONER)\n",
        "partitioned_output = [(partition_id, list(partition)) for (partition_id, partition) in partitioned_output]\n",
        "partitioned_output"
      ],
      "execution_count": null,
      "outputs": [
        {
          "output_type": "stream",
          "name": "stdout",
          "text": [
            "30 key-value pairs were sent over a network.\n"
          ]
        },
        {
          "output_type": "execute_result",
          "data": {
            "text/plain": [
              "[(0,\n",
              "  [(None, np.float64(0.16387426782667824)),\n",
              "   (None, np.float64(0.18845887427504737)),\n",
              "   (None, np.float64(0.20865295884442214)),\n",
              "   (None, np.float64(0.2466962331149979)),\n",
              "   (None, np.float64(0.34717837748901237)),\n",
              "   (None, np.float64(0.3935875923751957)),\n",
              "   (None, np.float64(0.4148675618660935)),\n",
              "   (None, np.float64(0.43919350711925)),\n",
              "   (None, np.float64(0.46954896844457117)),\n",
              "   (None, np.float64(0.4917233055224872))]),\n",
              " (1,\n",
              "  [(None, np.float64(0.5227129817885263)),\n",
              "   (None, np.float64(0.5427586856593501)),\n",
              "   (None, np.float64(0.5640152948953823)),\n",
              "   (None, np.float64(0.5785930371558655)),\n",
              "   (None, np.float64(0.5796915174273558)),\n",
              "   (None, np.float64(0.5798643725808812)),\n",
              "   (None, np.float64(0.5800158494428916)),\n",
              "   (None, np.float64(0.5973573018437456)),\n",
              "   (None, np.float64(0.6003707218546139)),\n",
              "   (None, np.float64(0.6221024492227969)),\n",
              "   (None, np.float64(0.6290301192365333)),\n",
              "   (None, np.float64(0.6408649632584192)),\n",
              "   (None, np.float64(0.6816832116468637)),\n",
              "   (None, np.float64(0.6851126387042438)),\n",
              "   (None, np.float64(0.7004407849279074)),\n",
              "   (None, np.float64(0.7554790180472503)),\n",
              "   (None, np.float64(0.7996595905026848)),\n",
              "   (None, np.float64(0.8682270855415917)),\n",
              "   (None, np.float64(0.9385462426745075)),\n",
              "   (None, np.float64(0.9393247561414011))])]"
            ]
          },
          "metadata": {},
          "execution_count": 102
        }
      ]
    },
    {
      "cell_type": "code",
      "metadata": {
        "id": "MQhoJaVZI93G"
      },
      "source": [],
      "execution_count": null,
      "outputs": []
    },
    {
      "cell_type": "markdown",
      "metadata": {
        "id": "Iy65YJTH99iT"
      },
      "source": [
        "# Упражнения\n",
        "Упражнения взяты из Rajaraman A., Ullman J. D. Mining of massive datasets. – Cambridge University Press, 2011.\n",
        "\n",
        "\n",
        "Для выполнения заданий переопределите функции RECORDREADER, MAP, REDUCE. Для модели распределённой системы может потребоваться переопределение функций PARTITION и COMBINER."
      ]
    },
    {
      "cell_type": "markdown",
      "metadata": {
        "id": "cfvAeZm3S8S8"
      },
      "source": [
        "### Максимальное значение ряда\n",
        "\n",
        "Разработайте MapReduce алгоритм, который находит максимальное число входного списка чисел."
      ]
    },
    {
      "cell_type": "code",
      "metadata": {
        "id": "3GRA1JR-Tkbg",
        "colab": {
          "base_uri": "https://localhost:8080/"
        },
        "outputId": "54dd9efe-a3de-49ea-c6be-d09e3c886948"
      },
      "source": [
        "import random\n",
        "\n",
        "# Находит максимум в своём подсписке\n",
        "def MAP(list):\n",
        "  return max(list)\n",
        "\n",
        "# Находит максимум среди значений, полученных от MAP\n",
        "def REDUCE(list):\n",
        "  return max(list)\n",
        "\n",
        "# Генерация списка случайных чисел\n",
        "def RECORDREADER(n):\n",
        "  return [random.randint(0, 1000) for i in range(n)]\n",
        "\n",
        "record = RECORDREADER(1000)\n",
        "\n",
        "# Разбиваем список на части\n",
        "parts = 10\n",
        "record_partitional = []\n",
        "for i in range(0, len(record), parts):\n",
        "  record_partitional.append(record[i:i+parts])\n",
        "\n",
        "print(REDUCE(list(map(lambda x: MAP(x), record_partitional))))\n",
        "print(record_partitional)"
      ],
      "execution_count": null,
      "outputs": [
        {
          "output_type": "stream",
          "name": "stdout",
          "text": [
            "997\n",
            "[[236, 955, 777, 866, 3, 679, 399, 412, 430, 700], [316, 802, 612, 913, 492, 719, 73, 866, 172, 125], [187, 393, 981, 164, 479, 162, 439, 814, 772, 747], [79, 552, 2, 664, 528, 926, 628, 535, 786, 164], [41, 306, 572, 580, 67, 754, 870, 584, 634, 544], [430, 411, 822, 161, 860, 95, 484, 794, 338, 869], [712, 656, 869, 509, 669, 407, 658, 523, 459, 827], [645, 574, 949, 588, 703, 649, 331, 680, 606, 446], [924, 311, 301, 518, 64, 899, 881, 793, 173, 385], [794, 60, 164, 12, 609, 170, 289, 799, 920, 816], [191, 893, 589, 252, 131, 329, 644, 909, 383, 759], [862, 564, 249, 574, 58, 815, 253, 956, 996, 823], [742, 284, 951, 99, 496, 165, 189, 332, 474, 669], [438, 903, 31, 450, 264, 636, 185, 481, 259, 803], [450, 247, 873, 584, 483, 960, 211, 317, 76, 3], [707, 592, 785, 440, 81, 196, 462, 218, 673, 896], [613, 657, 883, 428, 137, 372, 599, 260, 99, 997], [453, 539, 773, 900, 145, 109, 890, 996, 363, 692], [671, 410, 257, 404, 408, 949, 921, 593, 519, 84], [96, 977, 73, 293, 810, 582, 742, 798, 276, 883], [327, 34, 636, 285, 826, 63, 440, 183, 283, 311], [462, 923, 987, 44, 766, 283, 201, 225, 854, 919], [432, 774, 560, 465, 804, 54, 416, 338, 597, 730], [54, 324, 796, 527, 664, 296, 315, 851, 496, 82], [918, 213, 394, 893, 239, 972, 961, 509, 519, 514], [833, 653, 520, 201, 828, 193, 588, 449, 342, 813], [87, 205, 271, 764, 749, 577, 64, 140, 156, 907], [424, 850, 962, 523, 632, 206, 974, 476, 634, 672], [396, 29, 289, 394, 0, 916, 852, 752, 781, 164], [565, 815, 612, 711, 664, 6, 989, 778, 353, 22], [620, 574, 157, 769, 656, 829, 245, 726, 847, 765], [225, 545, 127, 632, 717, 289, 346, 665, 967, 977], [694, 80, 408, 227, 993, 901, 399, 543, 255, 673], [216, 185, 513, 616, 330, 237, 547, 682, 971, 819], [963, 478, 776, 768, 973, 846, 883, 308, 675, 657], [738, 116, 260, 658, 639, 570, 569, 181, 459, 315], [331, 639, 64, 310, 661, 47, 313, 750, 193, 190], [305, 853, 655, 145, 172, 443, 285, 723, 68, 498], [939, 146, 388, 917, 384, 10, 283, 519, 407, 36], [504, 312, 133, 559, 574, 133, 729, 265, 760, 708], [182, 424, 964, 774, 520, 989, 899, 903, 263, 247], [387, 420, 704, 377, 138, 152, 119, 203, 91, 293], [269, 924, 910, 46, 921, 910, 58, 731, 190, 702], [810, 813, 398, 438, 48, 858, 275, 399, 869, 330], [214, 712, 87, 475, 883, 106, 11, 404, 514, 867], [242, 773, 789, 469, 444, 730, 864, 114, 623, 596], [978, 925, 763, 367, 779, 80, 295, 745, 87, 881], [940, 850, 804, 12, 610, 286, 156, 324, 955, 85], [956, 3, 725, 168, 906, 597, 493, 791, 229, 886], [280, 856, 42, 50, 480, 749, 942, 509, 24, 103], [84, 768, 916, 861, 731, 197, 846, 730, 844, 725], [900, 602, 232, 426, 15, 640, 782, 118, 96, 764], [803, 903, 768, 470, 888, 628, 486, 202, 956, 872], [458, 251, 430, 352, 933, 44, 869, 647, 45, 491], [965, 912, 563, 187, 875, 739, 160, 772, 33, 746], [533, 880, 412, 922, 548, 869, 75, 43, 405, 473], [666, 527, 823, 154, 813, 175, 773, 222, 765, 327], [331, 803, 991, 674, 188, 141, 686, 6, 965, 102], [928, 89, 126, 656, 927, 94, 417, 732, 764, 498], [331, 653, 286, 14, 787, 253, 821, 143, 880, 279], [768, 759, 634, 255, 32, 878, 779, 364, 530, 942], [569, 896, 214, 107, 141, 253, 766, 942, 884, 513], [647, 802, 513, 992, 118, 483, 31, 420, 573, 675], [579, 405, 174, 792, 949, 984, 279, 798, 107, 619], [314, 267, 559, 287, 386, 151, 721, 996, 556, 70], [816, 578, 975, 173, 681, 472, 920, 775, 398, 386], [205, 958, 235, 793, 758, 521, 534, 972, 93, 914], [921, 783, 519, 102, 640, 603, 948, 881, 341, 981], [809, 902, 759, 637, 485, 677, 708, 406, 200, 780], [965, 662, 64, 808, 382, 306, 104, 34, 39, 353], [828, 248, 959, 210, 30, 53, 751, 749, 538, 869], [915, 790, 190, 514, 579, 605, 503, 304, 990, 293], [69, 223, 89, 137, 65, 936, 110, 653, 526, 985], [654, 852, 955, 997, 124, 511, 248, 800, 399, 790], [609, 116, 881, 691, 624, 506, 312, 428, 182, 944], [720, 216, 269, 840, 843, 188, 102, 704, 64, 910], [398, 368, 760, 90, 927, 946, 375, 779, 229, 751], [353, 824, 415, 467, 759, 518, 576, 377, 266, 238], [143, 502, 29, 261, 434, 541, 585, 556, 963, 908], [259, 278, 583, 584, 51, 655, 701, 913, 503, 973], [230, 227, 393, 964, 452, 557, 420, 82, 654, 282], [918, 351, 39, 937, 261, 735, 937, 909, 630, 377], [442, 963, 924, 272, 599, 172, 421, 288, 92, 310], [778, 298, 5, 426, 706, 678, 890, 101, 539, 329], [576, 57, 567, 545, 951, 636, 813, 56, 552, 23], [308, 824, 787, 322, 817, 391, 221, 750, 213, 656], [46, 268, 663, 890, 483, 509, 438, 882, 417, 594], [996, 817, 244, 608, 32, 410, 152, 580, 532, 71], [94, 193, 678, 855, 331, 311, 923, 85, 824, 812], [838, 387, 177, 268, 581, 408, 694, 419, 463, 583], [321, 231, 51, 856, 349, 676, 95, 744, 589, 86], [383, 884, 885, 205, 192, 808, 728, 389, 393, 155], [921, 657, 102, 584, 182, 805, 378, 41, 675, 548], [358, 519, 517, 810, 404, 805, 467, 493, 238, 977], [278, 320, 64, 427, 518, 633, 599, 98, 492, 254], [37, 602, 335, 601, 95, 733, 821, 506, 863, 545], [518, 639, 436, 161, 133, 542, 863, 751, 55, 41], [87, 935, 196, 263, 41, 657, 269, 620, 561, 959], [545, 295, 721, 986, 669, 718, 55, 347, 602, 107], [553, 160, 299, 555, 99, 368, 9, 259, 737, 697]]\n"
          ]
        }
      ]
    },
    {
      "cell_type": "markdown",
      "metadata": {
        "id": "k86bXnqZTk-U"
      },
      "source": [
        "### Арифметическое среднее\n",
        "\n",
        "Разработайте MapReduce алгоритм, который находит арифметическое среднее.\n",
        "\n",
        "$$\\overline{X} = \\frac{1}{n}\\sum_{i=0}^{n} x_i$$\n"
      ]
    },
    {
      "cell_type": "code",
      "metadata": {
        "id": "MPoY5pkfUNZf",
        "colab": {
          "base_uri": "https://localhost:8080/"
        },
        "outputId": "061e4461-1e2e-4ee7-891a-376c6f51d86a"
      },
      "source": [
        "from typing import Iterator, Tuple\n",
        "import random\n",
        "from itertools import groupby\n",
        "from collections import defaultdict\n",
        "\n",
        "def RECORDREADER(amount: int):\n",
        "    return [random.randint(0, 50) for _ in range(amount)]\n",
        "\n",
        "def MAP(value: int) -> Tuple[int, int]:\n",
        "    return 1, value\n",
        "\n",
        "def REDUCE(_, values: Iterator[int]):\n",
        "    total, count = 0, 0\n",
        "    for val in values:\n",
        "        total += val\n",
        "        count += 1\n",
        "    yield ('AVG', total / count)\n",
        "\n",
        "# Генерация данных\n",
        "random_numbers = RECORDREADER(10)\n",
        "\n",
        "# Применение отображения\n",
        "mapped_data = list(map(MAP, random_numbers))\n",
        "\n",
        "# Группировка по ключу\n",
        "shuffled_data = list(groupbykey(mapped_data))\n",
        "\n",
        "# Применение редукции\n",
        "result = list(flatten(map(lambda pair: REDUCE(*pair), shuffled_data)))\n",
        "\n",
        "print(result)\n",
        "print(mapped_data)\n"
      ],
      "execution_count": null,
      "outputs": [
        {
          "output_type": "stream",
          "name": "stdout",
          "text": [
            "[('AVG', 20.3)]\n",
            "[(1, 23), (1, 22), (1, 11), (1, 28), (1, 27), (1, 25), (1, 6), (1, 30), (1, 12), (1, 19)]\n"
          ]
        }
      ]
    },
    {
      "cell_type": "markdown",
      "metadata": {
        "id": "xanzszhsIlLe"
      },
      "source": [
        "### GroupByKey на основе сортировки\n",
        "\n",
        "Реализуйте groupByKey на основе сортировки, проверьте его работу на примерах"
      ]
    },
    {
      "cell_type": "code",
      "metadata": {
        "id": "hQPn3USsIkEC",
        "colab": {
          "base_uri": "https://localhost:8080/"
        },
        "outputId": "051b9a77-5796-45cf-a4e4-0ae75d2d80ff"
      },
      "source": [
        "from typing import Iterator, Tuple\n",
        "import random\n",
        "\n",
        "# Функция для группировки данных по ключу\n",
        "def group_by_key(iterable):\n",
        "    grouped = {}\n",
        "    for key, value in iterable:\n",
        "        grouped.setdefault(key, []).append(value)\n",
        "    return list(grouped.items())\n",
        "\n",
        "# Функция отображения (Map) - присваивает числу ключ 1\n",
        "def MAP(num):\n",
        "    return 1, num\n",
        "\n",
        "# Функция редукции (Reduce) - вычисляет среднее значение\n",
        "def REDUCE(_, numbers: Iterator[int]):\n",
        "    total, count = sum(numbers), len(numbers)\n",
        "    yield ('AVG', total / count) if count > 0 else ('AVG', 0)\n",
        "\n",
        "# Функция для генерации случайных чисел в заданном диапазоне\n",
        "def RECORDREADER(count):\n",
        "    return [random.randint(0, 5) for _ in range(count)]\n",
        "\n",
        "# Генерация данных и применение функции отображения\n",
        "map_output = list(map(MAP, RECORDREADER(3)))\n",
        "print(map_output)\n",
        "\n",
        "# Группировка данных по ключу\n",
        "shuffled_output = group_by_key(map_output)\n",
        "print(shuffled_output)\n",
        "\n",
        "# Применение редукции и вывод результата\n",
        "result = list(flatten(map(lambda pair: REDUCE(*pair), shuffled_output)))\n",
        "print(result)\n"
      ],
      "execution_count": null,
      "outputs": [
        {
          "output_type": "stream",
          "name": "stdout",
          "text": [
            "[(1, 5), (1, 1), (1, 3)]\n",
            "[(1, [5, 1, 3])]\n",
            "[('AVG', 3.0)]\n"
          ]
        }
      ]
    },
    {
      "cell_type": "markdown",
      "metadata": {
        "id": "5SgEjCZyGnu6"
      },
      "source": [
        "### Drop duplicates (set construction, unique elements, distinct)\n",
        "\n",
        "Реализуйте распределённую операцию исключения дубликатов"
      ]
    },
    {
      "cell_type": "code",
      "metadata": {
        "id": "okjbyApjGhMt",
        "colab": {
          "base_uri": "https://localhost:8080/"
        },
        "outputId": "94263127-5ec8-4f63-a4f7-0a17080b77cd"
      },
      "source": [
        "from typing import Iterator\n",
        "import numpy as np\n",
        "\n",
        "# Исходные документы\n",
        "d1 = \"\"\"\n",
        "what is it\n",
        "what is it\"\"\"\n",
        "d2 = \"\"\"\n",
        "it is what it is\n",
        "it is what it is\n",
        "it is what it is\"\"\"\n",
        "d3 = \"\"\"\n",
        "it is a banana\"\"\"\n",
        "\n",
        "documents = [d1, d2, d3, d1, d2, d3]\n",
        "\n",
        "# Количество мапперов и редьюсеров\n",
        "maps = 3\n",
        "reducers = 2\n",
        "\n",
        "# Функция входного формата\n",
        "def INPUTFORMAT():\n",
        "    global maps\n",
        "\n",
        "    def RECORDREADER(split):\n",
        "        for docid, document in enumerate(split):\n",
        "            for lineid, line in enumerate(document.split('\\n')):\n",
        "                yield (\"{}:{}\".format(docid, lineid), line)\n",
        "\n",
        "    split_size = int(np.ceil(len(documents) / maps))\n",
        "    for i in range(0, len(documents), split_size):\n",
        "        yield RECORDREADER(documents[i:i + split_size])\n",
        "\n",
        "# Функция отображения (Map) - разбивает строки на слова и создает пары (слово, слово)\n",
        "def MAP(docId: str, line: str):\n",
        "    for word in line.split(\" \"):\n",
        "        yield (word, word)\n",
        "\n",
        "# Функция редукции (Reduce) - возвращает ключ (уникальные слова)\n",
        "def REDUCE(key: str, value: Iterator[str]):\n",
        "    yield key\n",
        "\n",
        "# Запуск распределенного MapReduce\n",
        "partitioned_output = MapReduceDistributed(INPUTFORMAT, MAP, REDUCE, COMBINER=None)\n",
        "partitioned_output = [(partition_id, list(partition)) for (partition_id, partition) in partitioned_output]\n",
        "print(partitioned_output)\n"
      ],
      "execution_count": null,
      "outputs": [
        {
          "output_type": "stream",
          "name": "stdout",
          "text": [
            "56 key-value pairs were sent over a network.\n",
            "[(0, ['', 'is', 'it']), (1, ['a', 'banana', 'what'])]\n"
          ]
        }
      ]
    },
    {
      "cell_type": "markdown",
      "metadata": {
        "id": "e7sRGoTXuJze"
      },
      "source": [
        "#Операторы реляционной алгебры\n",
        "### Selection (Выборка)\n",
        "\n",
        "**The Map Function**: Для  каждого кортежа $t \\in R$ вычисляется истинность предиката $C$. В случае истины создаётся пара ключ-значение $(t, t)$. В паре ключ и значение одинаковы, равны $t$.\n",
        "\n",
        "**The Reduce Function:** Роль функции Reduce выполняет функция идентичности, которая возвращает то же значение, что получила на вход.\n",
        "\n"
      ]
    },
    {
      "cell_type": "code",
      "metadata": {
        "id": "4nKIKe59uIfc",
        "colab": {
          "base_uri": "https://localhost:8080/"
        },
        "outputId": "5e4a0747-5f62-4631-a8e8-096d9e83a160"
      },
      "source": [
        "from collections import defaultdict\n",
        "from typing import Iterator, NamedTuple\n",
        "\n",
        "# Функция Map для отбора строк, содержащих слово \"female\"\n",
        "def map_select(_: None, row: NamedTuple) -> Iterator[tuple[NamedTuple, NamedTuple]]:\n",
        "    if row.gender == \"female\":\n",
        "        yield (row, row)\n",
        "\n",
        "# Функция Reduce для группировки выбранных строк\n",
        "def reduce_select(row: NamedTuple, rows: Iterator[NamedTuple]) -> Iterator[tuple[NamedTuple, list[NamedTuple]]]:\n",
        "    yield (row, list(rows))\n",
        "\n",
        "# Функция для чтения записей из коллекции данных\n",
        "def record_reader() -> list[tuple[int, NamedTuple]]:\n",
        "    return [(entry.id, entry) for entry in input_collection]  # input_collection должен быть определен ранее\n",
        "\n",
        "# Функция для группировки данных по ключу\n",
        "def group_by_key(iterable: list[tuple[NamedTuple, NamedTuple]]) -> list[tuple[NamedTuple, list[NamedTuple]]]:\n",
        "    grouped_data = defaultdict(list)\n",
        "    for key, value in iterable:\n",
        "        grouped_data[key].append(value)\n",
        "    return list(grouped_data.items())\n",
        "\n",
        "# Функция для распаковки вложенных списков\n",
        "def flatten(nested_list: list[list]) -> list:\n",
        "    return [item for sublist in nested_list for item in sublist]\n",
        "\n",
        "# Основная функция MapReduce\n",
        "def map_reduce(data: list[tuple[int, NamedTuple]]) -> list[tuple[NamedTuple, list[NamedTuple]]]:\n",
        "    # Шаг Map: отбираем строки по критерию\n",
        "    mapped_data = list(flatten(map(lambda x: list(map_select(None, x[1])), data)))\n",
        "\n",
        "    # Шаг Shuffle: группируем по ключу\n",
        "    shuffled_data = group_by_key(mapped_data)\n",
        "\n",
        "    # Шаг Reduce: собираем итоговые группы\n",
        "    reduced_data = list(flatten(map(lambda x: list(reduce_select(x[0], iter(x[1]))), shuffled_data)))\n",
        "\n",
        "    return reduced_data\n",
        "\n",
        "# Запуск процесса MapReduce\n",
        "output = map_reduce(record_reader())\n",
        "print(output)\n"
      ],
      "execution_count": null,
      "outputs": [
        {
          "output_type": "stream",
          "name": "stdout",
          "text": [
            "[(User(id=1, age=25, social_contacts=240, gender='female'), [User(id=1, age=25, social_contacts=240, gender='female')]), (User(id=2, age=25, social_contacts=500, gender='female'), [User(id=2, age=25, social_contacts=500, gender='female')]), (User(id=3, age=33, social_contacts=800, gender='female'), [User(id=3, age=33, social_contacts=800, gender='female')])]\n"
          ]
        }
      ]
    },
    {
      "cell_type": "markdown",
      "metadata": {
        "id": "w27Ca-_Ku85V"
      },
      "source": [
        "### Projection (Проекция)\n",
        "\n",
        "Проекция на множество атрибутов $S$.\n",
        "\n",
        "**The Map Function:** Для каждого кортежа $t \\in R$ создайте кортеж $t′$, исключая  из $t$ те значения, атрибуты которых не принадлежат  $S$. Верните пару $(t′, t′)$.\n",
        "\n",
        "**The Reduce Function:** Для каждого ключа $t′$, созданного любой Map задачей, вы получаете одну или несколько пар $(t′, t′)$. Reduce функция преобразует $(t′, [t′, t′, . . . , t′])$ в $(t′, t′)$, так, что для ключа $t′$ возвращается одна пара  $(t′, t′)$."
      ]
    },
    {
      "cell_type": "code",
      "metadata": {
        "id": "BEvuY4GqvhS6",
        "colab": {
          "base_uri": "https://localhost:8080/"
        },
        "outputId": "8cf94e5a-336d-4046-c09d-93614e62cd56"
      },
      "source": [
        "from collections import defaultdict\n",
        "from typing import Iterator, NamedTuple\n",
        "\n",
        "# Исходные данные\n",
        "input_collection_2 = [\n",
        "    dict(id=10, age=45, gender=\"male\", social_contacts=15),\n",
        "    dict(id=11, age=34, gender=\"female\", social_contacts=320),\n",
        "    dict(id=12, age=29, gender=\"undefined\", social_contacts=512),\n",
        "    dict(id=13, age=19, gender=\"male\", social_contacts=89),\n",
        "    dict(id=14, age=40, gender=\"undefined\", social_contacts=44),\n",
        "    dict(id=15, age=25, gender=\"female\", social_contacts=276),\n",
        "]\n",
        "\n",
        "# Функция Map: фильтрует данные по полу и удаляет поле gender у \"undefined\"\n",
        "def MAP_PROJECTION(_, row: dict):\n",
        "    valid_genders = [\"male\", \"female\"]\n",
        "    if row[\"gender\"] in valid_genders:\n",
        "        yield (row[\"id\"], row)\n",
        "    else:\n",
        "        modified_row = row.copy()\n",
        "        del modified_row[\"gender\"]  # Удаляем поле gender\n",
        "        yield (modified_row[\"id\"], modified_row)\n",
        "\n",
        "# Функция Reduce: группировка данных по идентификатору\n",
        "def REDUCE_PROJECTION(row: str, rows: Iterator[NamedTuple]):\n",
        "    yield (row, list(rows))\n",
        "\n",
        "# Функция чтения данных\n",
        "def RECORDREADER():\n",
        "    return [(u[\"id\"], u) for u in input_collection_2]\n",
        "\n",
        "# Запуск MapReduce\n",
        "output = MapReduce(RECORDREADER, MAP_PROJECTION, REDUCE_PROJECTION)\n",
        "output = list(output)\n",
        "output\n"
      ],
      "execution_count": null,
      "outputs": [
        {
          "output_type": "execute_result",
          "data": {
            "text/plain": [
              "[(10, [{'id': 10, 'age': 45, 'gender': 'male', 'social_contacts': 15}]),\n",
              " (11, [{'id': 11, 'age': 34, 'gender': 'female', 'social_contacts': 320}]),\n",
              " (12, [{'id': 12, 'age': 29, 'social_contacts': 512}]),\n",
              " (13, [{'id': 13, 'age': 19, 'gender': 'male', 'social_contacts': 89}]),\n",
              " (14, [{'id': 14, 'age': 40, 'social_contacts': 44}]),\n",
              " (15, [{'id': 15, 'age': 25, 'gender': 'female', 'social_contacts': 276}])]"
            ]
          },
          "metadata": {},
          "execution_count": 108
        }
      ]
    },
    {
      "cell_type": "markdown",
      "metadata": {
        "id": "7gau6lKXvn2R"
      },
      "source": [
        "### Union (Объединение)\n",
        "\n",
        "**The Map Function:** Превратите каждый входной кортеж $t$ в пару ключ-значение $(t, t)$.\n",
        "\n",
        "**The Reduce Function:** С каждым ключом $t$ будет ассоциировано одно или два значений. В обоих случаях создайте $(t, t)$ в качестве выходного значения."
      ]
    },
    {
      "cell_type": "code",
      "metadata": {
        "id": "Sns7a5agv3nw",
        "colab": {
          "base_uri": "https://localhost:8080/"
        },
        "outputId": "40160d38-3268-4ede-b21f-5abc19c105c8"
      },
      "source": [
        "from collections import defaultdict\n",
        "from typing import Iterator, NamedTuple\n",
        "\n",
        "# Исходные данные (обновленные)\n",
        "input_collection_a = [\n",
        "    dict(id=101, age=50, gender=\"male\", social_contacts=200),\n",
        "    dict(id=102, age=23, gender=\"female\", social_contacts=150),\n",
        "    dict(id=103, age=35, gender=\"male\", social_contacts=80),\n",
        "    dict(id=104, age=27, gender=\"male\", social_contacts=500),\n",
        "    dict(id=105, age=42, gender=\"female\", social_contacts=300),\n",
        "]\n",
        "\n",
        "input_collection_b = [\n",
        "    dict(id=105, age=39, gender=\"female\", social_contacts=275),\n",
        "    dict(id=106, age=65, gender=\"male\", social_contacts=4500),\n",
        "    dict(id=107, age=30, gender=\"female\", social_contacts=50),\n",
        "]\n",
        "\n",
        "# Функция Map: группирует пользователей по id\n",
        "def MAP_UNION(_, row: dict):\n",
        "    yield (row[\"id\"], row)\n",
        "\n",
        "# Функция Reduce: объединяет записи по id\n",
        "# Выходное значение равно (t, t) независимо от присутствия пользователя в одной или обеих выборках\n",
        "def REDUCE_UNION(row: str, rows: Iterator[NamedTuple]):\n",
        "    row_list = list(rows)\n",
        "    yield (row_list[0], row_list[0])\n",
        "\n",
        "# Функция чтения данных\n",
        "def RECORDREADER():\n",
        "    return [(u[\"id\"], u) for u in input_collection_a + input_collection_b]\n",
        "\n",
        "# Запуск MapReduce\n",
        "output = MapReduce(RECORDREADER, MAP_UNION, REDUCE_UNION)\n",
        "output = list(output)\n",
        "output\n"
      ],
      "execution_count": null,
      "outputs": [
        {
          "output_type": "execute_result",
          "data": {
            "text/plain": [
              "[({'id': 101, 'age': 50, 'gender': 'male', 'social_contacts': 200},\n",
              "  {'id': 101, 'age': 50, 'gender': 'male', 'social_contacts': 200}),\n",
              " ({'id': 102, 'age': 23, 'gender': 'female', 'social_contacts': 150},\n",
              "  {'id': 102, 'age': 23, 'gender': 'female', 'social_contacts': 150}),\n",
              " ({'id': 103, 'age': 35, 'gender': 'male', 'social_contacts': 80},\n",
              "  {'id': 103, 'age': 35, 'gender': 'male', 'social_contacts': 80}),\n",
              " ({'id': 104, 'age': 27, 'gender': 'male', 'social_contacts': 500},\n",
              "  {'id': 104, 'age': 27, 'gender': 'male', 'social_contacts': 500}),\n",
              " ({'id': 105, 'age': 42, 'gender': 'female', 'social_contacts': 300},\n",
              "  {'id': 105, 'age': 42, 'gender': 'female', 'social_contacts': 300}),\n",
              " ({'id': 106, 'age': 65, 'gender': 'male', 'social_contacts': 4500},\n",
              "  {'id': 106, 'age': 65, 'gender': 'male', 'social_contacts': 4500}),\n",
              " ({'id': 107, 'age': 30, 'gender': 'female', 'social_contacts': 50},\n",
              "  {'id': 107, 'age': 30, 'gender': 'female', 'social_contacts': 50})]"
            ]
          },
          "metadata": {},
          "execution_count": 109
        }
      ]
    },
    {
      "cell_type": "markdown",
      "metadata": {
        "id": "dQ8TuEbjv4J8"
      },
      "source": [
        "### Intersection (Пересечение)\n",
        "\n",
        "**The Map Function:** Превратите каждый кортеж $t$ в пары ключ-значение $(t, t)$.\n",
        "\n",
        "**The Reduce Function:** Если для ключа $t$ есть список из двух элементов $[t, t]$ $-$ создайте пару $(t, t)$. Иначе, ничего не создавайте."
      ]
    },
    {
      "cell_type": "code",
      "metadata": {
        "id": "XKlBZh4IwERR",
        "colab": {
          "base_uri": "https://localhost:8080/"
        },
        "outputId": "10ed5c0e-ef78-4c48-d3f8-c1ef40aa6367"
      },
      "source": [
        "from collections import defaultdict\n",
        "from typing import Iterator, NamedTuple\n",
        "\n",
        "# Исходные данные (обновленные)\n",
        "input_collection_a = [\n",
        "    dict(id=101, age=50, gender=\"male\", social_contacts=200),\n",
        "    dict(id=102, age=23, gender=\"female\", social_contacts=150),\n",
        "    dict(id=103, age=35, gender=\"male\", social_contacts=80),\n",
        "    dict(id=104, age=27, gender=\"male\", social_contacts=500),\n",
        "    dict(id=105, age=42, gender=\"female\", social_contacts=300),\n",
        "]\n",
        "\n",
        "input_collection_b = [\n",
        "    dict(id=105, age=39, gender=\"female\", social_contacts=275),\n",
        "    dict(id=106, age=65, gender=\"male\", social_contacts=4500),\n",
        "    dict(id=107, age=30, gender=\"female\", social_contacts=50),\n",
        "]\n",
        "\n",
        "# Функция Map: группирует пользователей по id\n",
        "def MAP_INTERSECTION(_, row: dict):\n",
        "    yield (row[\"id\"], row)\n",
        "\n",
        "# Функция Reduce: выбирает только тех пользователей, которые есть в обоих списках\n",
        "def REDUCE_INTERSECTION(row_id: int, rows: Iterator[NamedTuple]):\n",
        "    row_list = list(rows)\n",
        "    if len(row_list) == 2:\n",
        "        yield tuple(row_list)\n",
        "\n",
        "# Функция чтения данных\n",
        "def RECORDREADER():\n",
        "    return [(u[\"id\"], u) for u in input_collection_a + input_collection_b]\n",
        "\n",
        "# Запуск MapReduce\n",
        "output = MapReduce(RECORDREADER, MAP_INTERSECTION, REDUCE_INTERSECTION)\n",
        "output = list(output)\n",
        "output\n"
      ],
      "execution_count": null,
      "outputs": [
        {
          "output_type": "execute_result",
          "data": {
            "text/plain": [
              "[({'id': 105, 'age': 42, 'gender': 'female', 'social_contacts': 300},\n",
              "  {'id': 105, 'age': 39, 'gender': 'female', 'social_contacts': 275})]"
            ]
          },
          "metadata": {},
          "execution_count": 110
        }
      ]
    },
    {
      "cell_type": "markdown",
      "metadata": {
        "id": "AVOpqoY3wE5k"
      },
      "source": [
        "### Difference (Разница)\n",
        "\n",
        "**The Map Function:** Для кортежа $t \\in R$, создайте пару $(t, R)$, и для кортежа $t \\in S$, создайте пару $(t, S)$. Задумка заключается в том, чтобы значение пары было именем отношения $R$ or $S$, которому принадлежит кортеж (а лучше, единичный бит, по которому можно два отношения различить $R$ or $S$), а не весь набор атрибутов отношения.\n",
        "\n",
        "**The Reduce Function:** Для каждого ключа $t$, если соответствующее значение является списком $[R]$, создайте пару $(t, t)$. В иных случаях не предпринимайте действий."
      ]
    },
    {
      "cell_type": "code",
      "metadata": {
        "id": "QE_AC09lwZIZ",
        "colab": {
          "base_uri": "https://localhost:8080/"
        },
        "outputId": "daae3e14-a193-41d9-bda4-f0d533ccc14e"
      },
      "source": [
        "from collections import defaultdict\n",
        "from typing import Iterator, NamedTuple\n",
        "\n",
        "# Исходные данные (обновленные)\n",
        "input_collection_a = [\n",
        "    dict(id=101, age=50, gender=\"male\", social_contacts=200),\n",
        "    dict(id=102, age=23, gender=\"female\", social_contacts=150),\n",
        "    dict(id=103, age=35, gender=\"male\", social_contacts=80),\n",
        "    dict(id=104, age=27, gender=\"male\", social_contacts=500),\n",
        "    dict(id=105, age=42, gender=\"female\", social_contacts=300),\n",
        "]\n",
        "\n",
        "input_collection_b = [\n",
        "    dict(id=105, age=39, gender=\"female\", social_contacts=275),\n",
        "    dict(id=106, age=65, gender=\"male\", social_contacts=4500),\n",
        "    dict(id=107, age=30, gender=\"female\", social_contacts=50),\n",
        "]\n",
        "\n",
        "# Функция Map: сопоставляет пользователей с номером коллекции\n",
        "def MAP_DIFFERENCE(collection_id, user):\n",
        "    yield (user[\"id\"], collection_id)\n",
        "\n",
        "# Функция Reduce: выбирает пользователей, которые есть только в первой выборке\n",
        "def REDUCE_DIFFERENCE(user_id, collections):\n",
        "    collection_list = list(collections)\n",
        "    if collection_list == [0]:\n",
        "        yield next(user for user in input_collection_a if user[\"id\"] == user_id)\n",
        "\n",
        "# Функция чтения данных (добавляем идентификатор выборки)\n",
        "def RECORDREADER():\n",
        "    return [(0, a) for a in input_collection_a] + [(1, b) for b in input_collection_b]\n",
        "\n",
        "# Запуск MapReduce\n",
        "output = MapReduce(RECORDREADER, MAP_DIFFERENCE, REDUCE_DIFFERENCE)\n",
        "output = list(output)\n",
        "output"
      ],
      "execution_count": null,
      "outputs": [
        {
          "output_type": "execute_result",
          "data": {
            "text/plain": [
              "[{'id': 101, 'age': 50, 'gender': 'male', 'social_contacts': 200},\n",
              " {'id': 102, 'age': 23, 'gender': 'female', 'social_contacts': 150},\n",
              " {'id': 103, 'age': 35, 'gender': 'male', 'social_contacts': 80},\n",
              " {'id': 104, 'age': 27, 'gender': 'male', 'social_contacts': 500}]"
            ]
          },
          "metadata": {},
          "execution_count": 111
        }
      ]
    },
    {
      "cell_type": "markdown",
      "metadata": {
        "id": "j8I58V2VwhSm"
      },
      "source": [
        "### Natural Join\n",
        "\n",
        "**The Map Function:** Для каждого кортежа $(a, b)$ отношения $R$, создайте пару $(b,(R, a))$. Для каждого кортежа $(b, c)$ отношения $S$, создайте пару $(b,(S, c))$.\n",
        "\n",
        "**The Reduce Function:** Каждый ключ $b$ будет асоциирован со списком пар, которые принимают форму либо $(R, a)$, либо $(S, c)$. Создайте все пары, одни, состоящие из  первого компонента $R$, а другие, из первого компонента $S$, то есть $(R, a)$ и $(S, c)$. На выходе вы получаете последовательность пар ключ-значение из списков ключей и значений. Ключ не нужен. Каждое значение, это тройка $(a, b, c)$ такая, что $(R, a)$ и $(S, c)$ это принадлежат входному списку значений."
      ]
    },
    {
      "cell_type": "code",
      "metadata": {
        "id": "yHiuuTctw86I",
        "colab": {
          "base_uri": "https://localhost:8080/"
        },
        "outputId": "bc72963f-08f2-48fe-b38d-4b6d44186fc2"
      },
      "source": [
        "from collections import defaultdict\n",
        "from typing import Iterator, NamedTuple\n",
        "\n",
        "# Определение структуры пользователя\n",
        "class User(NamedTuple):\n",
        "    id: int\n",
        "    age: int\n",
        "    gender: str\n",
        "    social_contacts: int\n",
        "    city_id: int\n",
        "\n",
        "# Коллекция пользователей\n",
        "users_collection = [\n",
        "    User(id=1, age=45, gender=\"male\", social_contacts=100, city_id=1),\n",
        "    User(id=2, age=25, gender=\"female\", social_contacts=200, city_id=2),\n",
        "    User(id=3, age=30, gender=\"male\", social_contacts=150, city_id=2),\n",
        "    User(id=4, age=20, gender=\"male\", social_contacts=300, city_id=3),\n",
        "    User(id=5, age=50, gender=\"female\", social_contacts=250, city_id=4),\n",
        "]\n",
        "\n",
        "# Определение структуры города\n",
        "class City(NamedTuple):\n",
        "    id: int\n",
        "    name: str\n",
        "\n",
        "# Коллекция городов\n",
        "cities_collection = [\n",
        "    City(id=1, name=\"New York\"),\n",
        "    City(id=2, name=\"Los Angeles\"),\n",
        "    City(id=3, name=\"Chicago\"),\n",
        "    City(id=4, name=\"Houston\"),\n",
        "    City(id=5, name=\"Phoenix\"),\n",
        "]\n",
        "\n",
        "# Функция MAP_JOIN сопоставляет пользователей и города по city_id\n",
        "def MAP_JOIN(city_id, row):\n",
        "    yield (city_id, row)\n",
        "\n",
        "# Функция REDUCE_JOIN объединяет пользователей с их городами\n",
        "def REDUCE_JOIN(city_id, rows):\n",
        "    users = []\n",
        "    city = None\n",
        "\n",
        "    # Разделяем данные: определяем пользователей и город\n",
        "    for row in rows:\n",
        "        if isinstance(row, User):\n",
        "            users.append(row)\n",
        "        else:\n",
        "            city = row\n",
        "\n",
        "    # Объединяем пользователей с городом\n",
        "    for user in users:\n",
        "        yield (user, city)\n",
        "\n",
        "# Функция RECORDREADER собирает данные для обработки\n",
        "def RECORDREADER():\n",
        "    return [(user.city_id, user) for user in users_collection] + [\n",
        "        (city.id, city) for city in cities_collection\n",
        "    ]\n",
        "\n",
        "# Выполнение MapReduce\n",
        "output = MapReduce(RECORDREADER, MAP_JOIN, REDUCE_JOIN)\n",
        "output = list(output)\n",
        "\n",
        "# Вывод объединенных данных\n",
        "for user, city in output:\n",
        "    print(f\"User {user.id} ({user.gender}, {user.age} y.o.) from {city.name}, Social Contacts: {user.social_contacts}\")\n"
      ],
      "execution_count": null,
      "outputs": [
        {
          "output_type": "stream",
          "name": "stdout",
          "text": [
            "User 1 (male, 45 y.o.) from New York, Social Contacts: 100\n",
            "User 2 (female, 25 y.o.) from Los Angeles, Social Contacts: 200\n",
            "User 3 (male, 30 y.o.) from Los Angeles, Social Contacts: 150\n",
            "User 4 (male, 20 y.o.) from Chicago, Social Contacts: 300\n",
            "User 5 (female, 50 y.o.) from Houston, Social Contacts: 250\n"
          ]
        }
      ]
    },
    {
      "cell_type": "markdown",
      "metadata": {
        "id": "kYdlr0YUxE27"
      },
      "source": [
        "### Grouping and Aggregation (Группировка и аггрегация)\n",
        "\n",
        "**The Map Function:** Для каждого кортежа $(a, b, c$) создайте пару $(a, b)$.\n",
        "\n",
        "**The Reduce Function:** Ключ представляет ту или иную группу. Примение аггрегирующую операцию $\\theta$ к списку значений $[b1, b2, . . . , bn]$ ассоциированных с ключом $a$. Возвращайте в выходной поток $(a, x)$, где $x$ результат применения  $\\theta$ к списку. Например, если $\\theta$ это $SUM$, тогда $x = b1 + b2 + · · · + bn$, а если $\\theta$ is $MAX$, тогда $x$ это максимальное из значений $b1, b2, . . . , bn$."
      ]
    },
    {
      "cell_type": "code",
      "metadata": {
        "id": "MLPckfEGxico",
        "colab": {
          "base_uri": "https://localhost:8080/"
        },
        "outputId": "e22da409-eb3a-4cd7-8014-e1ae131dbabb"
      },
      "source": [
        "# Готовим объединенные данные (users_collection + cities_collection)\n",
        "joined_data = [\n",
        "    (user.city_id, user, next(city for city in cities_collection if city.id == user.city_id))\n",
        "    for user in users_collection\n",
        "]\n",
        "\n",
        "# Функция MAP_GROUP: группирует пользователей по городу\n",
        "def MAP_GROUP(city_id, user, city):\n",
        "    yield (city_id, user)\n",
        "\n",
        "# Функция REDUCE_GROUP: считает количество пользователей в каждом городе\n",
        "def REDUCE_GROUP(city_id, rows):\n",
        "    user_count = sum(1 for _ in rows)  # Подсчет количества пользователей\n",
        "    yield f\"City with id={city_id} has {user_count} user(s)\"\n",
        "\n",
        "# Функция RECORDREADER: подготавливает данные из объединенного набора\n",
        "def RECORDREADER():\n",
        "    return [(city_id, user, city) for city_id, user, city in joined_data]\n",
        "\n",
        "# Выполнение MapReduce\n",
        "output = MapReduce(RECORDREADER, MAP_GROUP, REDUCE_GROUP)\n",
        "output = list(output)\n",
        "\n",
        "# Вывод результатов\n",
        "for result in output:\n",
        "    print(result)\n"
      ],
      "execution_count": null,
      "outputs": [
        {
          "output_type": "stream",
          "name": "stdout",
          "text": [
            "City with id=1 has 1 user(s)\n",
            "City with id=2 has 2 user(s)\n",
            "City with id=3 has 1 user(s)\n",
            "City with id=4 has 1 user(s)\n"
          ]
        }
      ]
    },
    {
      "cell_type": "markdown",
      "metadata": {
        "id": "03IffTEOJgOb"
      },
      "source": [
        "#"
      ]
    },
    {
      "cell_type": "markdown",
      "metadata": {
        "id": "GIo2t7nNxvA9"
      },
      "source": [
        "## Matrix multiplication (Перемножение матриц)\n",
        "\n",
        "Если у нас есть матрица $M$ с элементами $m_{ij}$ в строке $i$ и столбце $j$, и матрица $N$ с элементами $n_{jk}$ в строке $j$ и столбце $k$, тогда их произведение $P = MN$ есть матрица $P$ с элементами $p_{ik}$ в строке $i$ и столбце $k$, где\n",
        "\n",
        "$$p_{ik} =\\sum_{j} m_{ij}n_{jk}$$\n",
        "\n",
        "Необходимым требованием является одинаковое количество столбцов в $M$ и строк в $N$, чтобы операция суммирования по  $j$ была осмысленной. Мы можем размышлять о матрице, как об отношении с тремя атрибутами: номер строки, номер столбца, само значение. Таким образом матрица $M$ предстваляется как отношение $ M(I, J, V )$, с кортежами $(i, j, m_{ij})$, и, аналогично, матрица $N$ представляется как отношение $N(J, K, W)$, с кортежами $(j, k, n_{jk})$. Так как большие матрицы как правило разреженные (большинство значений равно 0), и так как мы можем нулевыми значениями пренебречь (не хранить), такое реляционное представление достаточно эффективно для больших матриц. Однако, возможно, что координаты $i$, $j$, и $k$ неявно закодированы в смещение позиции элемента относительно начала файла, вместо явного хранения. Тогда, функция Map (или Reader) должна быть разработана таким образом, чтобы реконструировать компоненты $I$, $J$, и $K$ кортежей из смещения.\n",
        "\n",
        "Произведение $MN$ это фактически join, за которым следуют группировка по ключу и аггрегация. Таким образом join отношений $M(I, J, V )$ и $N(J, K, W)$, имеющих общим только атрибут $J$, создаст кортежи $(i, j, k, v, w)$ из каждого кортежа $(i, j, v) \\in M$ и кортежа $(j, k, w) \\in N$. Такой 5 компонентный кортеж представляет пару элементов матрицы $(m_{ij} , n_{jk})$. Что нам хотелось бы получить на самом деле, это произведение этих элементов, то есть, 4 компонентный кортеж$(i, j, k, v \\times w)$, так как он представляет произведение $m_{ij}n_{jk}$. Мы представляем отношение как результат одной MapReduce операции, в которой мы можем произвести группировку и аггрегацию, с $I$ и $K$  атрибутами, по которым идёт группировка, и суммой  $V \\times W$.\n",
        "\n",
        "\n",
        "\n"
      ]
    },
    {
      "cell_type": "code",
      "metadata": {
        "id": "1MBkGaLAYVCt"
      },
      "source": [
        "# MapReduce model\n",
        "def flatten(nested_iterable):\n",
        "  for iterable in nested_iterable:\n",
        "    for element in iterable:\n",
        "      yield element\n",
        "\n",
        "def groupbykey(iterable):\n",
        "  t = {}\n",
        "  for (k2, v2) in iterable:\n",
        "    t[k2] = t.get(k2, []) + [v2]\n",
        "  return t.items()\n",
        "\n",
        "def MapReduce(RECORDREADER, MAP, REDUCE):\n",
        "  return flatten(map(lambda x: REDUCE(*x), groupbykey(flatten(map(lambda x: MAP(*x), RECORDREADER())))))"
      ],
      "execution_count": null,
      "outputs": []
    },
    {
      "cell_type": "markdown",
      "metadata": {
        "id": "sMspsOT0ZB35"
      },
      "source": [
        "Реализуйте перемножение матриц с использованием модельного кода MapReduce для одной машины в случае, когда одна матрица хранится в памяти, а другая генерируется RECORDREADER-ом."
      ]
    },
    {
      "cell_type": "code",
      "metadata": {
        "id": "psP1XekbsEjS",
        "colab": {
          "base_uri": "https://localhost:8080/"
        },
        "outputId": "ea3aa476-30dc-4692-e736-2a79afd9909c"
      },
      "source": [
        "import numpy as np\n",
        "\n",
        "I = 2\n",
        "J = 3\n",
        "K = 2 * 10\n",
        "small_mat = np.random.rand(I, J)\n",
        "big_mat = np.random.rand(J, K)\n",
        "\n",
        "\n",
        "def record_reader():\n",
        "    for j in range(big_mat.shape[0]):\n",
        "        for k in range(big_mat.shape[1]):\n",
        "            yield ((j, k), big_mat[j, k])\n",
        "\n",
        "\n",
        "def mapper(k1, v1):\n",
        "    j, k = k1\n",
        "    w = v1\n",
        "\n",
        "    for i in range(I):\n",
        "        k2 = (i, k)\n",
        "        v2 = small_mat[i, j] * w\n",
        "        yield (k2, v2)\n",
        "\n",
        "\n",
        "def reducer(key, values):\n",
        "    i, k = key\n",
        "\n",
        "    k3 = (i, k)\n",
        "\n",
        "    v3 = sum(values)  # Используем встроенную функцию sum()\n",
        "\n",
        "    yield (k3, v3)\n",
        "\n",
        "\n",
        "def group_by_key(items):\n",
        "    groups = {}\n",
        "    for key, value in items:\n",
        "        if key not in groups:\n",
        "            groups[key] = []\n",
        "        groups[key].append(value)\n",
        "    return groups.items()\n",
        "\n",
        "\n",
        "def flatten(list_of_lists):\n",
        "    return [item for sublist in list_of_lists for item in sublist]\n",
        "\n",
        "\n",
        "# Map phase\n",
        "map_output = list(flatten(map(lambda item: list(mapper(item[0], item[1])), record_reader())))\n",
        "\n",
        "# Shuffle phase\n",
        "shuffle_output = list(group_by_key(map_output))\n",
        "\n",
        "# Reduce phase\n",
        "reduce_output = list(flatten(map(lambda item: list(reducer(item[0], item[1])), shuffle_output)))\n",
        "\n",
        "# Create result matrix\n",
        "result_matrix = np.zeros((I, K))\n",
        "for (i, k), v3 in reduce_output:\n",
        "    result_matrix[i, k] = v3\n",
        "\n",
        "print(result_matrix)"
      ],
      "execution_count": null,
      "outputs": [
        {
          "output_type": "stream",
          "name": "stdout",
          "text": [
            "[[0.25957597 0.60542209 0.30375568 0.15146427 0.06601426 0.33869877\n",
            "  0.66559417 0.47387563 0.58981713 0.62016206 0.25209548 0.16989033\n",
            "  0.07349851 0.14975212 0.12235994 0.48272147 0.55422638 0.7021007\n",
            "  0.66389154 0.1661727 ]\n",
            " [0.69667733 0.84780583 0.51557569 0.27865386 0.27043745 0.66584971\n",
            "  1.16242397 1.04813269 1.10254335 0.730176   0.45075421 0.471518\n",
            "  0.26757373 0.40080417 0.47899779 0.89692968 0.80790844 1.17073135\n",
            "  0.92595263 0.46279965]]\n"
          ]
        }
      ]
    },
    {
      "cell_type": "markdown",
      "metadata": {
        "id": "rnt306LHhHrm"
      },
      "source": [
        "Проверьте своё решение"
      ]
    },
    {
      "cell_type": "code",
      "metadata": {
        "id": "Ewy_ZNYqW5a2",
        "colab": {
          "base_uri": "https://localhost:8080/"
        },
        "outputId": "9c1d43cd-e235-46b4-fb3f-844cadff2ad8"
      },
      "source": [
        "# CHECK THE SOLUTION\n",
        "reference_solution = np.matmul(small_mat, big_mat)\n",
        "solution = MapReduce(record_reader, mapper, reducer)\n",
        "\n",
        "def asmatrix(reduce_output):\n",
        "  reduce_output = list(reduce_output)\n",
        "  I = max(i for ((i,k), vw) in reduce_output)+1\n",
        "  K = max(k for ((i,k), vw) in reduce_output)+1\n",
        "  mat = np.empty(shape=(I,K))\n",
        "  for ((i,k), vw) in reduce_output:\n",
        "    mat[i,k] = vw\n",
        "  return mat\n",
        "\n",
        "np.allclose(reference_solution, asmatrix(solution)) # should return true"
      ],
      "execution_count": null,
      "outputs": [
        {
          "output_type": "execute_result",
          "data": {
            "text/plain": [
              "True"
            ]
          },
          "metadata": {},
          "execution_count": 116
        }
      ]
    },
    {
      "cell_type": "code",
      "metadata": {
        "id": "TK7v4CEcfxqf",
        "colab": {
          "base_uri": "https://localhost:8080/"
        },
        "outputId": "be863722-fe8b-4427-df7d-7b5fd8609f6c"
      },
      "source": [
        "reduce_output = list(MapReduce(record_reader, mapper, reducer))\n",
        "max(i for ((i,k), vw) in reduce_output)"
      ],
      "execution_count": null,
      "outputs": [
        {
          "output_type": "execute_result",
          "data": {
            "text/plain": [
              "1"
            ]
          },
          "metadata": {},
          "execution_count": 117
        }
      ]
    },
    {
      "cell_type": "markdown",
      "metadata": {
        "id": "i4yyg3kOZqJJ"
      },
      "source": [
        "Реализуйте перемножение матриц  с использованием модельного кода MapReduce для одной машины в случае, когда обе матрицы генерируются в RECORDREADER. Например, сначала одна, а потом другая."
      ]
    },
    {
      "cell_type": "code",
      "metadata": {
        "id": "3B7rIAJCaHZq",
        "colab": {
          "base_uri": "https://localhost:8080/"
        },
        "outputId": "0eddbe94-fc2b-405d-a5fd-8cb1fefd15f9"
      },
      "source": [
        "import numpy as np\n",
        "\n",
        "I = 2\n",
        "J = 3\n",
        "K = 2 * 10\n",
        "small_mat = np.random.rand(I, J)\n",
        "big_mat = np.random.rand(J, K)\n",
        "\n",
        "def record_reader():\n",
        "    \"\"\"Генерация пар элементов матриц для MapReduce.\"\"\"\n",
        "    for i in range(I):\n",
        "        for j in range(J):\n",
        "            for k in range(K):\n",
        "                yield (((i, j), small_mat[i, j]), ((j, k), big_mat[j, k]))\n",
        "\n",
        "def mapper(element1, element2):\n",
        "    \"\"\"Функция Map: перемножение элементов и генерация пар (ключ, значение).\"\"\"\n",
        "    (i, j), v1 = element1\n",
        "    (j, k), v2 = element2\n",
        "    yield ((i, k), v1 * v2)\n",
        "\n",
        "def reducer(key, values):\n",
        "    \"\"\"Функция Reduce: суммирование произведений для получения элемента матрицы.\"\"\"\n",
        "    i, k = key\n",
        "    yield ((i, k), sum(values))  # Используем встроенную функцию sum()\n",
        "\n",
        "def group_by_key(items):\n",
        "    \"\"\"Группировка элементов по ключу.\"\"\"\n",
        "    groups = {}\n",
        "    for key, value in items:\n",
        "        if key not in groups:\n",
        "            groups[key] = []\n",
        "        groups[key].append(value)\n",
        "    return groups.items()\n",
        "\n",
        "def flatten(list_of_lists):\n",
        "    \"\"\"Функция для \"расплющивания\" списка списков.\"\"\"\n",
        "    return [item for sublist in list_of_lists for item in sublist]\n",
        "\n",
        "def map_reduce():\n",
        "    \"\"\"Функция для запуска MapReduce.\"\"\"\n",
        "    # Map phase\n",
        "    map_output = list(flatten(map(lambda item: list(mapper(item[0], item[1])), record_reader())))\n",
        "\n",
        "    # Shuffle phase\n",
        "    shuffle_output = list(group_by_key(map_output))\n",
        "\n",
        "    # Reduce phase\n",
        "    reduce_output = list(flatten(map(lambda item: list(reducer(item[0], item[1])), shuffle_output)))\n",
        "\n",
        "    # Создание результирующей матрицы\n",
        "    result_matrix = np.zeros((I, K))\n",
        "    for (i, k), v3 in reduce_output:\n",
        "        result_matrix[i, k] = v3\n",
        "    return result_matrix\n",
        "\n",
        "# Запуск MapReduce и вывод результата\n",
        "result_matrix = map_reduce()\n",
        "print(result_matrix)"
      ],
      "execution_count": null,
      "outputs": [
        {
          "output_type": "stream",
          "name": "stdout",
          "text": [
            "[[0.51882168 0.48776475 0.22051046 0.41309776 0.18489695 0.42828332\n",
            "  0.27010834 0.45731299 0.47079521 0.4322203  0.34910875 0.27672734\n",
            "  0.46484685 0.50064569 0.34245799 0.51364973 0.41301552 0.29721517\n",
            "  0.45704712 0.16250683]\n",
            " [1.14576629 0.98884563 0.36494206 0.83840648 0.54456904 0.8729619\n",
            "  0.52396695 0.88735779 0.95533658 0.77256422 0.70093297 0.62511793\n",
            "  0.8188235  0.95530588 0.7624936  0.98856169 0.93854463 0.36720571\n",
            "  0.9317227  0.61586449]]\n"
          ]
        }
      ]
    },
    {
      "cell_type": "markdown",
      "metadata": {
        "id": "mXyzQi1DaIwo"
      },
      "source": [
        "Реализуйте перемножение матриц с использованием модельного кода MapReduce Distributed, когда каждая матрица генерируется в своём RECORDREADER."
      ]
    },
    {
      "cell_type": "code",
      "metadata": {
        "id": "TDM_s78Rb5eR",
        "colab": {
          "base_uri": "https://localhost:8080/"
        },
        "outputId": "6691a5e5-22d7-4a44-b908-a412557aa82f"
      },
      "source": [
        "import numpy as np\n",
        "\n",
        "I = 2\n",
        "J = 3\n",
        "K = 4 * 10\n",
        "small_mat = np.random.rand(I, J)\n",
        "big_mat = np.random.rand(J, K)\n",
        "maps = 2\n",
        "reducers = 2\n",
        "\n",
        "def input_format():\n",
        "    \"\"\"Генерация данных для MapReduce с разделением на узлы.\"\"\"\n",
        "    split_size = int(np.ceil(I / maps))\n",
        "    for i in range(0, I, split_size):\n",
        "        yield record_reader(range(i, min(i + split_size, I)))  # Ограничиваем верхнюю границу\n",
        "\n",
        "def record_reader(i_range):\n",
        "    \"\"\"Генерация пар элементов матриц для MapReduce.\"\"\"\n",
        "    for i in i_range:\n",
        "        for j in range(J):\n",
        "            for k in range(K):\n",
        "                yield (((i, j), small_mat[i, j]), ((j, k), big_mat[j, k]))\n",
        "\n",
        "def mapper(element1, element2):\n",
        "    \"\"\"Функция Map: перемножение элементов и генерация пар (ключ, значение).\"\"\"\n",
        "    (i, j), v1 = element1\n",
        "    (j, k), v2 = element2\n",
        "    yield ((i, k), v1 * v2)\n",
        "\n",
        "def reducer(key, values):\n",
        "    \"\"\"Функция Reduce: суммирование произведений для получения элемента матрицы.\"\"\"\n",
        "    i, k = key\n",
        "    yield ((i, k), sum(values))  # Используем встроенную функцию sum()\n",
        "\n",
        "def group_by_key(items):\n",
        "    \"\"\"Группировка элементов по ключу.\"\"\"\n",
        "    groups = {}\n",
        "    for key, value in items:\n",
        "        if key not in groups:\n",
        "            groups[key] = []\n",
        "        groups[key].append(value)\n",
        "    return groups.items()\n",
        "\n",
        "def flatten(list_of_lists):\n",
        "    \"\"\"Функция для \"расплющивания\" списка списков.\"\"\"\n",
        "    return [item for sublist in list_of_lists for item in sublist]\n",
        "\n",
        "def map_reduce_distributed(input_format_func, map_func, reduce_func, combiner_func=None):\n",
        "    \"\"\"Функция для запуска распределенного MapReduce.\"\"\"\n",
        "    partitioned_output = []\n",
        "    for partition_id, record_reader_instance in enumerate(input_format_func()):\n",
        "        map_output = list(flatten(map(lambda item: list(map_func(item[0], item[1])), record_reader_instance)))\n",
        "\n",
        "        if combiner_func:\n",
        "            shuffle_output = list(group_by_key(map_output))\n",
        "            combined_output = list(flatten(map(lambda item: list(combiner_func(item[0], item[1])), shuffle_output)))\n",
        "            partitioned_output.append((partition_id, combined_output))\n",
        "        else:\n",
        "            partitioned_output.append((partition_id, map_output))  # Не используем combiner\n",
        "\n",
        "    # Shuffle phase (имитация для распределенной обработки)\n",
        "    all_map_output = list(flatten([partition[1] for partition in partitioned_output]))\n",
        "    shuffle_output = list(group_by_key(all_map_output))\n",
        "\n",
        "    reduce_output = list(flatten(map(lambda item: list(reduce_func(item[0], item[1])), shuffle_output)))\n",
        "\n",
        "    return reduce_output\n",
        "\n",
        "\n",
        "# Запуск MapReduce и вывод результата\n",
        "partitioned_output = map_reduce_distributed(input_format, mapper, reducer)\n",
        "\n",
        "result_matrix = np.zeros((I, K))\n",
        "for (i, k), v3 in partitioned_output:\n",
        "    result_matrix[i, k] = v3\n",
        "\n",
        "print(result_matrix)\n",
        "# np.allclose(reference_solution, result_matrix)  # Раскомментируйте для проверки, если reference_solution определен"
      ],
      "execution_count": null,
      "outputs": [
        {
          "output_type": "stream",
          "name": "stdout",
          "text": [
            "[[0.16150383 0.43036958 0.55106414 0.30310462 0.14225387 0.72768905\n",
            "  0.41367753 0.92533078 0.46181544 1.10530562 0.533248   1.10562692\n",
            "  0.7836155  1.11172309 0.23129407 0.9537107  0.52783614 0.87434615\n",
            "  0.82557539 0.4675654  0.36765892 0.66681253 0.81818434 1.22260025\n",
            "  0.90499732 0.92077103 0.99543778 0.4727498  0.72729067 0.13874458\n",
            "  0.96312485 0.75862489 0.83743455 0.2763682  0.87778914 0.49581093\n",
            "  0.90770596 0.93043768 0.86518936 0.9772203 ]\n",
            " [0.19096835 0.52868689 0.68946905 0.76540498 0.32484028 0.96884059\n",
            "  1.06474605 1.29855507 0.55611016 1.09968373 0.84561197 1.19172161\n",
            "  1.16082916 1.48587422 0.53385601 0.93213836 0.63049438 0.98396795\n",
            "  1.39500335 1.0068992  0.81292114 0.93959187 0.99272255 1.20183567\n",
            "  1.067778   1.10657626 1.32838243 0.79175819 0.75639767 0.29571478\n",
            "  1.21635452 1.21940647 1.14764172 0.2966223  1.08474408 0.58468024\n",
            "  1.29999478 1.37126907 1.31546861 1.56595769]]\n"
          ]
        }
      ]
    },
    {
      "cell_type": "markdown",
      "metadata": {
        "id": "ZuSA2P9Db6UM"
      },
      "source": [
        "Обобщите предыдущее решение на случай, когда каждая матрица генерируется несколькими RECORDREADER-ами, и проверьте его работоспособность. Будет ли работать решение, если RECORDREADER-ы будут генерировать случайное подмножество элементов матрицы?"
      ]
    },
    {
      "cell_type": "code",
      "metadata": {
        "id": "ehN0FqRDcwU5",
        "colab": {
          "base_uri": "https://localhost:8080/"
        },
        "outputId": "83583480-70c7-4eb7-b7bc-81d9d2bb944c"
      },
      "source": [
        "import numpy as np\n",
        "\n",
        "I = 2\n",
        "J = 3\n",
        "K = 4 * 10\n",
        "small_mat = np.random.rand(I, J)\n",
        "big_mat = np.random.rand(J, K)\n",
        "reference_solution = np.matmul(small_mat, big_mat)\n",
        "maps = 3\n",
        "reducers = 2\n",
        "\n",
        "\n",
        "def input_format():\n",
        "    \"\"\"Генерация данных для MapReduce с разделением на узлы.\"\"\"\n",
        "    first_mat = []\n",
        "    for i in range(small_mat.shape[0]):\n",
        "        for j in range(small_mat.shape[1]):\n",
        "            first_mat.append(((0, i, j), small_mat[i, j]))  # Первая матрица\n",
        "\n",
        "    split_size = int(np.ceil(len(first_mat) / maps))\n",
        "    for i in range(0, len(first_mat), split_size):\n",
        "        yield first_mat[i:i + split_size]\n",
        "\n",
        "    second_mat = []\n",
        "    for j in range(big_mat.shape[0]):\n",
        "        for k in range(big_mat.shape[1]):\n",
        "            second_mat.append(((1, j, k), big_mat[j, k]))  # Вторая матрица\n",
        "\n",
        "    split_size = int(np.ceil(len(second_mat) / maps))\n",
        "    for i in range(0, len(second_mat), split_size):\n",
        "        yield second_mat[i:i + split_size]\n",
        "\n",
        "\n",
        "def map_join(k1, v1):\n",
        "    \"\"\"Функция Map для соединения матриц.\"\"\"\n",
        "    mat_num, i, j = k1\n",
        "    w = v1\n",
        "    if mat_num == 0:\n",
        "        yield (j, (mat_num, i, w))\n",
        "    else:\n",
        "        yield (i, (mat_num, j, w))\n",
        "\n",
        "\n",
        "def reduce_join(key, values):\n",
        "    \"\"\"Функция Reduce для соединения матриц.\"\"\"\n",
        "    from_first_mat = [v for v in values if v[0] == 0]\n",
        "    from_second_mat = [v for v in values if v[0] == 1]\n",
        "    for f in from_first_mat:\n",
        "        for s in from_second_mat:\n",
        "            yield ((f[1], s[1]), f[2] * s[2])\n",
        "\n",
        "\n",
        "def map_mul(k1, v1):\n",
        "    \"\"\"Функция Map для умножения.\"\"\"\n",
        "    yield (k1, v1)\n",
        "\n",
        "\n",
        "def reduce_mul(key, values):\n",
        "    \"\"\"Функция Reduce для умножения.\"\"\"\n",
        "    yield (key, sum(values))\n",
        "\n",
        "\n",
        "def group_by_key(items):\n",
        "    \"\"\"Группировка элементов по ключу.\"\"\"\n",
        "    groups = {}\n",
        "    for key, value in items:\n",
        "        if key not in groups:\n",
        "            groups[key] = []\n",
        "        groups[key].append(value)\n",
        "    return groups.items()\n",
        "\n",
        "\n",
        "def flatten(list_of_lists):\n",
        "    \"\"\"Функция для \"расплющивания\" списка списков.\"\"\"\n",
        "    return [item for sublist in list_of_lists for item in sublist]\n",
        "\n",
        "\n",
        "def map_reduce_distributed(input_format_func, map_func, reduce_func, combiner_func=None):\n",
        "    \"\"\"Функция для запуска распределенного MapReduce.\"\"\"\n",
        "    partitioned_output = []\n",
        "    for partition_id, data_partition in enumerate(input_format_func()):\n",
        "        map_output = list(flatten(map(lambda item: list(map_func(item[0], item[1])), data_partition)))\n",
        "\n",
        "        if combiner_func:\n",
        "            shuffle_output = list(group_by_key(map_output))\n",
        "            combined_output = list(flatten(map(lambda item: list(combiner_func(item[0], item[1])), shuffle_output)))\n",
        "            partitioned_output.append((partition_id, combined_output))\n",
        "        else:\n",
        "            partitioned_output.append((partition_id, map_output))\n",
        "\n",
        "    # Shuffle phase (имитация для распределенной обработки)\n",
        "    all_map_output = list(flatten([partition[1] for partition in partitioned_output]))\n",
        "    shuffle_output = list(group_by_key(all_map_output))\n",
        "\n",
        "    reduce_output = list(flatten(map(lambda item: list(reduce_func(item[0], item[1])), shuffle_output)))\n",
        "\n",
        "    return reduce_output\n",
        "\n",
        "\n",
        "# Запуск MapReduce и вывод результата\n",
        "joined_data = map_reduce_distributed(input_format, map_join, reduce_join)\n",
        "mul_output = map_reduce_distributed(lambda: [joined_data], map_mul, reduce_mul) # Передаем joined_data как входные данные\n",
        "\n",
        "result = {}\n",
        "for k, v in mul_output:\n",
        "    result[k] = v\n",
        "\n",
        "result_matrix = np.zeros((I, K))\n",
        "for (i, k), v in result.items():\n",
        "    result_matrix[i, k] = v\n",
        "\n",
        "print(result_matrix)\n",
        "print(np.allclose(reference_solution, result_matrix))"
      ],
      "execution_count": null,
      "outputs": [
        {
          "output_type": "stream",
          "name": "stdout",
          "text": [
            "[[0.7626427  0.53040791 0.80305148 0.92657528 0.28768083 0.93808842\n",
            "  0.42503866 0.5917943  0.64270552 1.20450879 1.37169996 0.36882698\n",
            "  0.97869383 0.93991269 0.58508511 1.03941925 0.35775455 1.0428118\n",
            "  0.5911072  0.79745878 0.76735568 0.65551232 0.63727241 1.11297087\n",
            "  0.62065019 0.44366153 0.26136054 0.49640792 0.75324228 0.18503575\n",
            "  0.40857195 0.17825842 1.08806206 0.70189171 1.3221965  1.2451538\n",
            "  0.84305541 0.54405127 1.01334847 0.53356929]\n",
            " [0.62276253 0.38295977 0.34198775 0.57472228 0.21032484 0.56626087\n",
            "  0.29301776 0.21730583 0.47661489 0.77648783 0.89408016 0.11333013\n",
            "  0.71738335 0.68550657 0.37112358 0.76521653 0.15667554 0.62188232\n",
            "  0.31097048 0.57097491 0.54822801 0.36806249 0.4060519  0.64118229\n",
            "  0.31433953 0.29200433 0.11191645 0.24623611 0.59936408 0.1144166\n",
            "  0.14363589 0.06579956 0.83876799 0.51303067 0.89169877 0.73207859\n",
            "  0.50232306 0.3056413  0.51982977 0.17513977]]\n",
            "True\n"
          ]
        }
      ]
    }
  ]
}