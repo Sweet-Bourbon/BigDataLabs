{
  "nbformat": 4,
  "nbformat_minor": 0,
  "metadata": {
    "colab": {
      "provenance": []
    },
    "kernelspec": {
      "name": "python3",
      "display_name": "Python 3"
    },
    "language_info": {
      "name": "python"
    }
  },
  "cells": [
    {
      "cell_type": "code",
      "execution_count": 26,
      "metadata": {
        "id": "Xol5OTtwZ7Wh"
      },
      "outputs": [],
      "source": [
        "from datetime import datetime\n",
        "from pyspark.sql.types import StructType, StructField, StringType, DateType\n",
        "from pyspark.sql.functions import asc, desc, rank, col\n",
        "from pyspark.sql.window import Window"
      ]
    },
    {
      "cell_type": "code",
      "source": [
        "from pyspark.sql import SparkSession\n",
        "import os\n",
        "\n",
        "os.environ['PYSPARK_SUBMIT_ARGS'] = '--packages com.databricks:spark-xml_2.12:0.13.0 pyspark-shell'\n",
        "\n",
        "spark_session = SparkSession.builder.appName(\"Lab2\").getOrCreate()\n",
        "sc = spark_session._sc\n",
        "spark_session"
      ],
      "metadata": {
        "colab": {
          "base_uri": "https://localhost:8080/",
          "height": 222
        },
        "id": "mi_j37KwaelK",
        "outputId": "d801d569-6ffc-4381-88ea-80b14a53bfc3"
      },
      "execution_count": 27,
      "outputs": [
        {
          "output_type": "execute_result",
          "data": {
            "text/plain": [
              "<pyspark.sql.session.SparkSession at 0x7b987af421d0>"
            ],
            "text/html": [
              "\n",
              "            <div>\n",
              "                <p><b>SparkSession - in-memory</b></p>\n",
              "                \n",
              "        <div>\n",
              "            <p><b>SparkContext</b></p>\n",
              "\n",
              "            <p><a href=\"http://f7ab6d27a43d:4040\">Spark UI</a></p>\n",
              "\n",
              "            <dl>\n",
              "              <dt>Version</dt>\n",
              "                <dd><code>v3.5.5</code></dd>\n",
              "              <dt>Master</dt>\n",
              "                <dd><code>local[*]</code></dd>\n",
              "              <dt>AppName</dt>\n",
              "                <dd><code>Lab2</code></dd>\n",
              "            </dl>\n",
              "        </div>\n",
              "        \n",
              "            </div>\n",
              "        "
            ]
          },
          "metadata": {},
          "execution_count": 27
        }
      ]
    },
    {
      "cell_type": "code",
      "source": [
        "# Создание схемы данных\n",
        "progLangSchema = StructType([\n",
        "    StructField(\"Language\", StringType(), nullable=False),\n",
        "    StructField(\"Url_language\", StringType(), nullable=False)\n",
        "])\n",
        "\n",
        "# Чтение CSV файла с заданной схемой\n",
        "dfProgLangs = spark_session.read.format(\"csv\").schema(progLangSchema).load(\"programming-languages.csv\")\n",
        "\n",
        "# Вывод первых строк DataFrame\n",
        "dfProgLangs.show(5)"
      ],
      "metadata": {
        "colab": {
          "base_uri": "https://localhost:8080/"
        },
        "id": "c_ijppE4ajd4",
        "outputId": "40914da2-cded-441a-b7bf-71f5fe5ac27f"
      },
      "execution_count": 28,
      "outputs": [
        {
          "output_type": "stream",
          "name": "stdout",
          "text": [
            "+----------+--------------------+\n",
            "|  Language|        Url_language|\n",
            "+----------+--------------------+\n",
            "|      name|       wikipedia_url|\n",
            "|   A# .NET|https://en.wikipe...|\n",
            "|A# (Axiom)|https://en.wikipe...|\n",
            "|A-0 System|https://en.wikipe...|\n",
            "|        A+|https://en.wikipe...|\n",
            "+----------+--------------------+\n",
            "only showing top 5 rows\n",
            "\n"
          ]
        }
      ]
    },
    {
      "cell_type": "code",
      "source": [
        "# Получение первой строки DataFrame\n",
        "firstRow = dfProgLangs.first()\n",
        "\n",
        "# Преобразование DataFrame в RDD и обработка данных\n",
        "progLangsList = dfProgLangs.rdd \\\n",
        "    .filter(lambda x: x != firstRow) \\\n",
        "    .map(lambda x: x[\"Language\"]) \\\n",
        "    .collect()\n",
        "\n",
        "# Вывод первых 10 элементов списка\n",
        "progLangsList[:10]"
      ],
      "metadata": {
        "colab": {
          "base_uri": "https://localhost:8080/"
        },
        "id": "6ua-BYw7au1G",
        "outputId": "e2bf2abe-e049-49af-a9e7-1f662885448e"
      },
      "execution_count": 29,
      "outputs": [
        {
          "output_type": "execute_result",
          "data": {
            "text/plain": [
              "['A# .NET',\n",
              " 'A# (Axiom)',\n",
              " 'A-0 System',\n",
              " 'A+',\n",
              " 'A++',\n",
              " 'ABAP',\n",
              " 'ABC',\n",
              " 'ABC ALGOL',\n",
              " 'ABSET',\n",
              " 'ABSYS']"
            ]
          },
          "metadata": {},
          "execution_count": 29
        }
      ]
    },
    {
      "cell_type": "code",
      "source": [
        "# Чтение XML файла с использованием формата xml и указанием rowTag\n",
        "dfPostsSample = spark_session.read.format(\"xml\").options(rowTag=\"row\").load(\"posts_sample.xml\")\n",
        "\n",
        "# Печать DataFrame\n",
        "dfPostsSample.show()\n",
        "\n",
        "# Печать первой строки DataFrame\n",
        "print(dfPostsSample.first())"
      ],
      "metadata": {
        "colab": {
          "base_uri": "https://localhost:8080/"
        },
        "id": "XCYltsKjaxLz",
        "outputId": "21e5e170-ef9d-438a-9f45-2ef99fc9f053"
      },
      "execution_count": 30,
      "outputs": [
        {
          "output_type": "stream",
          "name": "stdout",
          "text": [
            "+-----------------+------------+--------------------+-----------+-------------+--------------------+--------------------+--------------+-------+--------------------+--------------------+----------------------+-----------------+-----------------+------------+---------+-----------+------+--------------------+--------------------+----------+\n",
            "|_AcceptedAnswerId|_AnswerCount|               _Body|_ClosedDate|_CommentCount| _CommunityOwnedDate|       _CreationDate|_FavoriteCount|    _Id|   _LastActivityDate|       _LastEditDate|_LastEditorDisplayName|_LastEditorUserId|_OwnerDisplayName|_OwnerUserId|_ParentId|_PostTypeId|_Score|               _Tags|              _Title|_ViewCount|\n",
            "+-----------------+------------+--------------------+-----------+-------------+--------------------+--------------------+--------------+-------+--------------------+--------------------+----------------------+-----------------+-----------------+------------+---------+-----------+------+--------------------+--------------------+----------+\n",
            "|                7|          13|<p>I want to use ...|       NULL|            2|2012-10-31 16:42:...|2008-07-31 21:42:...|            48|      4|2019-07-19 01:39:...|2019-07-19 01:39:...|                Rich B|          3641067|             NULL|           8|     NULL|          1|   630|<c#><floating-poi...|Convert Decimal t...|     42817|\n",
            "|               31|           6|<p>I have an abso...|       NULL|            0|                NULL|2008-07-31 22:08:...|            10|      6|2019-07-19 01:43:...|2019-07-19 01:43:...|                Rich B|          3641067|             NULL|           9|     NULL|          1|   281|<html><css><inter...|Percentage width ...|     18214|\n",
            "|             NULL|        NULL|<p>An explicit ca...|       NULL|            0|                NULL|2008-07-31 22:17:...|          NULL|      7|2017-12-16 05:06:...|2017-12-16 05:06:...|                  NULL|          4020527|             NULL|           9|        4|          2|   425|                NULL|                NULL|      NULL|\n",
            "|             1404|          63|<p>Given a <code>...|       NULL|            5|2011-08-16 19:40:...|2008-07-31 23:40:...|           436|      9|2019-06-26 15:25:...|2018-04-21 17:48:...|                Rich B|          3956566|             NULL|           1|     NULL|          1|  1742|<c#><.net><datetime>|How do I calculat...|    555183|\n",
            "|             1248|          37|<p>Given a specif...|       NULL|            3|2009-09-04 13:15:...|2008-07-31 23:55:...|           539|     11|2019-05-26 02:31:...|2017-06-04 15:51:...|           user2370523|          6479704|             NULL|           1|     NULL|          1|  1444|<c#><datetime><ti...|Calculate relativ...|    149445|\n",
            "|             NULL|        NULL|<p>Here's how I d...|       NULL|           11|2009-09-04 13:15:...|2008-07-31 23:56:...|          NULL|     12|2018-01-12 16:10:...|2018-01-12 16:10:...|            GateKiller|          1271898|             NULL|           1|       11|          2|   327|                NULL|                NULL|      NULL|\n",
            "|             NULL|          24|<p>Is there a sta...|       NULL|           10|                NULL|2008-08-01 00:42:...|           147|     13|2019-05-14 16:02:...|2018-12-24 22:47:...|                Rich B|          9752662|             NULL|           9|     NULL|          1|   590|<html><browser><t...|Determine a user'...|    176405|\n",
            "|             NULL|          10|<p>What is the di...|       NULL|            4|                NULL|2008-08-01 00:59:...|            57|     14|2018-09-19 03:49:...|2017-02-25 17:42:...|                Rich B|          6495084|   Anonymous User|          11|     NULL|          1|   399|        <.net><math>|Difference betwee...|    123231|\n",
            "|             NULL|        NULL|<p>No. (And more ...|       NULL|            6|                NULL|2010-09-20 16:18:...|          NULL|3753373|2010-09-20 16:18:...|                NULL|                  NULL|             NULL|             NULL|       10293|  3753364|          2|    13|                NULL|                NULL|      NULL|\n",
            "|             NULL|        NULL|<p>I am not aware...|       NULL|            2|                NULL|2010-09-20 18:36:...|          NULL|3754384|2010-09-20 18:43:...|2010-09-20 18:43:...|                  NULL|           140185|             NULL|      140185|  3754279|          2|     2|                NULL|                NULL|      NULL|\n",
            "|             NULL|        NULL|<p>If you want a ...|       NULL|            2|                NULL|2010-09-20 19:04:...|          NULL|3754601|2010-09-20 19:04:...|                NULL|                  NULL|             NULL|             NULL|        7280|  3754553|          2|     1|                NULL|                NULL|      NULL|\n",
            "|             NULL|        NULL|<p>The very first...|       NULL|            0|                NULL|2010-09-21 02:07:...|          NULL|3756831|2010-09-21 02:07:...|                NULL|                  NULL|             NULL|             NULL|      349130|  3756770|          2|     9|                NULL|                NULL|      NULL|\n",
            "|             NULL|        NULL|<p>It seems to me...|       NULL|            3|                NULL|2010-09-21 07:33:...|          NULL|3758183|2010-09-21 07:33:...|                NULL|                  NULL|             NULL|             NULL|       15168|  3754526|          2|     0|                NULL|                NULL|      NULL|\n",
            "|             NULL|        NULL|<p>In Django orig...|       NULL|            3|2010-09-21 11:46:...|2010-09-21 11:46:...|          NULL|3759958|2010-09-21 13:40:...|2010-09-21 13:40:...|                  NULL|           377095|             NULL|      377095|  3759524|          2|     1|                NULL|                NULL|      NULL|\n",
            "|             NULL|        NULL|<p>You can't. Mic...|       NULL|            0|                NULL|2010-09-21 12:07:...|          NULL|3760101|2010-09-21 12:07:...|                NULL|                  NULL|             NULL|             NULL|      155641|  3760066|          2|     1|                NULL|                NULL|      NULL|\n",
            "|             NULL|        NULL|<p>I don't know, ...|       NULL|            0|                NULL|2010-09-21 13:16:...|          NULL|3760630|2010-09-21 13:16:...|                NULL|                  NULL|             NULL|             NULL|      417143|  2739558|          2|     0|                NULL|                NULL|      NULL|\n",
            "|             NULL|        NULL|<p>You can't unle...|       NULL|            2|                NULL|2010-09-21 15:09:...|          NULL|3761678|2010-09-21 15:09:...|                NULL|                  NULL|             NULL|             NULL|       77409|  3761429|          2|     2|                NULL|                NULL|      NULL|\n",
            "|             NULL|        NULL|<p>Assume your se...|       NULL|            0|                NULL|2010-09-21 16:22:...|          NULL|3762339|2010-09-21 16:22:...|                NULL|                  NULL|             NULL|             NULL|        4280|  3761757|          2|     0|                NULL|                NULL|      NULL|\n",
            "|             NULL|        NULL|<p>You can use th...|       NULL|            0|                NULL|2010-09-21 18:27:...|          NULL|3763289|2013-06-07 05:57:...|2013-06-07 05:57:...|                  NULL|          1083859|             NULL|      413594|  3761292|          2|     3|                NULL|                NULL|      NULL|\n",
            "|             NULL|        NULL|<p>You can <a hre...|       NULL|            3|                NULL|2010-09-21 19:36:...|          NULL|3763797|2010-09-21 19:36:...|                NULL|                  NULL|             NULL|             NULL|       15639|  3754233|          2|    -1|                NULL|                NULL|      NULL|\n",
            "+-----------------+------------+--------------------+-----------+-------------+--------------------+--------------------+--------------+-------+--------------------+--------------------+----------------------+-----------------+-----------------+------------+---------+-----------+------+--------------------+--------------------+----------+\n",
            "only showing top 20 rows\n",
            "\n",
            "Row(_AcceptedAnswerId=7, _AnswerCount=13, _Body=\"<p>I want to use a track-bar to change a form's opacity.</p>\\n\\n<p>This is my code:</p>\\n\\n<pre><code>decimal trans = trackBar1.Value / 5000;\\nthis.Opacity = trans;\\n</code></pre>\\n\\n<p>When I build the application, it gives the following error:</p>\\n\\n<blockquote>\\n  <p>Cannot implicitly convert type <code>'decimal'</code> to <code>'double'</code></p>\\n</blockquote>\\n\\n<p>I tried using <code>trans</code> and <code>double</code> but then the control doesn't work. This code worked fine in a past VB.NET project.</p>\\n\", _ClosedDate=None, _CommentCount=2, _CommunityOwnedDate=datetime.datetime(2012, 10, 31, 16, 42, 47, 213000), _CreationDate=datetime.datetime(2008, 7, 31, 21, 42, 52, 667000), _FavoriteCount=48, _Id=4, _LastActivityDate=datetime.datetime(2019, 7, 19, 1, 39, 54, 173000), _LastEditDate=datetime.datetime(2019, 7, 19, 1, 39, 54, 173000), _LastEditorDisplayName='Rich B', _LastEditorUserId=3641067, _OwnerDisplayName=None, _OwnerUserId=8, _ParentId=None, _PostTypeId=1, _Score=630, _Tags='<c#><floating-point><type-conversion><double><decimal>', _Title='Convert Decimal to Double?', _ViewCount=42817)\n"
          ]
        }
      ]
    },
    {
      "cell_type": "code",
      "source": [
        "# Функция для определения языка по тегам в строке\n",
        "def DefineLanguage(row):\n",
        "    languageTag = None  # Инициализируем переменную для хранения найденного языка\n",
        "    # Перебираем список языков для поиска соответствующих тегов\n",
        "    for language in progLangsList:\n",
        "        # Если тег языка найден в строке (в верхнем регистре)\n",
        "        if '<' + language.upper() + '>' in row._Tags.upper():\n",
        "            languageTag = language  # Присваиваем язык\n",
        "            break  # Прерываем цикл, так как язык найден\n",
        "    # Если язык найден, возвращаем кортеж с нужными значениями\n",
        "    if languageTag is not None:\n",
        "        return (row._Id, languageTag, row._CreationDate.year, row._ViewCount)\n",
        "\n",
        "# Функция для проверки, попадает ли дата в указанный диапазон\n",
        "def IsDateInRange(row):\n",
        "    leftBorder = datetime(year=2010, month=1, day=1)  # Начало диапазона (1 января 2010)\n",
        "    rightBorder = datetime(year=2020, month=12, day=31)  # Конец диапазона (31 декабря 2020)\n",
        "    # Проверяем, что дата создания записи лежит в пределах диапазона\n",
        "    return row._CreationDate >= leftBorder and row._CreationDate <= rightBorder\n"
      ],
      "metadata": {
        "id": "WHy70B2SbcyO"
      },
      "execution_count": 31,
      "outputs": []
    },
    {
      "cell_type": "code",
      "source": [
        "# Фильтруем данные по наличию тегов и диапазону дат, затем применяем DefineLanguage для обработки каждой строки\n",
        "'''\n",
        "Применяем функцию DefineLanguage для извлечения информации о языке, году и количестве просмотров\n",
        "Фильтруем None значения, которые могут появиться, если DefineLanguage не нашел язык\n",
        "Группируем данные по году (row[2]) и языку (row[1])\n",
        "Преобразуем данные в формат (группа, количество просмотров), где группа состоит из года и языка\n",
        "Суммируем количество просмотров для каждой пары (год, язык)\n",
        "Преобразуем данные обратно в формат (год, язык, количество просмотров)\n",
        "Преобразуем RDD в DataFrame с соответствующими названиями столбцов\n",
        "'''\n",
        "topLanguagesPerYear = dfPostsSample.rdd.filter(lambda row: row._Tags is not None and IsDateInRange(row))\\\n",
        "    .map(DefineLanguage)\\\n",
        "    .filter(lambda row: row is not None)\\\n",
        "    .keyBy(lambda row: (row[2], row[1]))\\\n",
        "    .map(lambda row: ((row[0][0], row[0][1]), row[1][3]))\\\n",
        "    .reduceByKey(lambda a, b: a + b)\\\n",
        "    .map(lambda row: (row[0][0], row[0][1], row[1]))\\\n",
        "    .toDF(('Year', 'Language', 'Count'))\n",
        "\n",
        "# Выводим результат\n",
        "topLanguagesPerYear.show()\n"
      ],
      "metadata": {
        "colab": {
          "base_uri": "https://localhost:8080/"
        },
        "id": "mJmsp09mblBb",
        "outputId": "1d746d47-14d0-4562-8556-fe31141345e7"
      },
      "execution_count": 32,
      "outputs": [
        {
          "output_type": "stream",
          "name": "stdout",
          "text": [
            "+----+-----------+-------+\n",
            "|Year|   Language|  Count|\n",
            "+----+-----------+-------+\n",
            "|2010|       Java| 563211|\n",
            "|2010|        Sed|    447|\n",
            "|2010|          R|  11087|\n",
            "|2011|Objective-C| 218762|\n",
            "|2011|        PHP| 243646|\n",
            "|2013|       Java|1035218|\n",
            "|2013| PowerShell| 154758|\n",
            "|2013|       Bash|  72161|\n",
            "|2013|          C|  37918|\n",
            "|2014| JavaScript| 505138|\n",
            "|2014|         Go|   2409|\n",
            "|2014|       Bash|   6593|\n",
            "|2014|       Perl|   6920|\n",
            "|2014|          C|  87281|\n",
            "|2016|        PHP|  98009|\n",
            "|2016|       Curl|   9386|\n",
            "|2016|       Java| 168691|\n",
            "|2016|       Bash|   7419|\n",
            "|2019|       Java|   5942|\n",
            "|2015|Objective-C|  11295|\n",
            "+----+-----------+-------+\n",
            "only showing top 20 rows\n",
            "\n"
          ]
        }
      ]
    },
    {
      "cell_type": "code",
      "source": [
        "# Определяем окно для вычисления ранга: по году и с сортировкой по убыванию количества просмотров\n",
        "window_spec = Window.partitionBy(\"Year\").orderBy(topLanguagesPerYear[\"Count\"].desc())\n",
        "\n",
        "# Применяем функцию rank() для вычисления ранга в каждой группе (по году)\n",
        "topLanguagesRanks = topLanguagesPerYear.withColumn(\"rank\", rank().over(window_spec))\n",
        "\n",
        "# Фильтруем только топ-10 языков по году (с учетом ранга) и удаляем столбец с рангом\n",
        "result = topLanguagesRanks.filter(topLanguagesRanks[\"rank\"] <= 10).drop(col(\"rank\"))\n",
        "\n",
        "# Выводим результат\n",
        "result.show()\n"
      ],
      "metadata": {
        "colab": {
          "base_uri": "https://localhost:8080/"
        },
        "id": "U7yBA0gTboYy",
        "outputId": "c45244c4-9597-4e53-f492-5b2a129d731b"
      },
      "execution_count": 33,
      "outputs": [
        {
          "output_type": "stream",
          "name": "stdout",
          "text": [
            "+----+-----------+-------+\n",
            "|Year|   Language|  Count|\n",
            "+----+-----------+-------+\n",
            "|2010|        PHP|1184584|\n",
            "|2010|       Java| 563211|\n",
            "|2010| JavaScript| 316131|\n",
            "|2010|Objective-C|  97009|\n",
            "|2010|       Ruby|  76001|\n",
            "|2010|          C|  66587|\n",
            "|2010|     Python|  59392|\n",
            "|2010|     MATLAB|  51865|\n",
            "|2010|AppleScript|  32305|\n",
            "|2010|     Delphi|  11817|\n",
            "|2011| JavaScript| 806948|\n",
            "|2011|       Java| 388524|\n",
            "|2011|        PHP| 243646|\n",
            "|2011|          C| 238277|\n",
            "|2011|Objective-C| 218762|\n",
            "|2011|     Python| 195016|\n",
            "|2011|       Bash|  60805|\n",
            "|2011|       Ruby|  33037|\n",
            "|2011|       Perl|  24465|\n",
            "|2011|     MATLAB|  18816|\n",
            "+----+-----------+-------+\n",
            "only showing top 20 rows\n",
            "\n"
          ]
        }
      ]
    }
  ]
}